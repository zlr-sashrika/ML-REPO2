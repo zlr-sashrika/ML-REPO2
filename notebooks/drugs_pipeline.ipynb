{
 "cells": [
  {
   "cell_type": "code",
   "execution_count": 1,
   "metadata": {
    "colab": {
     "base_uri": "https://localhost:8080/"
    },
    "execution": {
     "iopub.execute_input": "2025-05-07T07:08:03.023961Z",
     "iopub.status.busy": "2025-05-07T07:08:03.022978Z",
     "iopub.status.idle": "2025-05-07T07:08:03.032079Z",
     "shell.execute_reply": "2025-05-07T07:08:03.031558Z"
    },
    "executionInfo": {
     "elapsed": 3473,
     "status": "ok",
     "timestamp": 1707154523221,
     "user": {
      "displayName": "Narasimharao",
      "userId": "17097520752763909307"
     },
     "user_tz": -330
    },
    "id": "dUlUAWNYwOqv",
    "outputId": "ed832c78-c139-40c9-fe39-31fa77799f3a"
   },
   "outputs": [],
   "source": [
    "# from google.colab import drive\n",
    "# drive.mount('/content/drive')"
   ]
  },
  {
   "cell_type": "code",
   "execution_count": 2,
   "metadata": {
    "execution": {
     "iopub.execute_input": "2025-05-07T07:08:03.037415Z",
     "iopub.status.busy": "2025-05-07T07:08:03.036426Z",
     "iopub.status.idle": "2025-05-07T07:08:04.948372Z",
     "shell.execute_reply": "2025-05-07T07:08:04.948372Z"
    },
    "executionInfo": {
     "elapsed": 1861,
     "status": "ok",
     "timestamp": 1707154525080,
     "user": {
      "displayName": "Narasimharao",
      "userId": "17097520752763909307"
     },
     "user_tz": -330
    },
    "id": "-5TRVCqZwOq2"
   },
   "outputs": [],
   "source": [
    "import pandas as pd\n",
    "import numpy as np\n",
    "import matplotlib.pyplot as plt\n",
    "import seaborn as sns\n",
    "import re\n",
    "from sklearn.feature_extraction.text import CountVectorizer,TfidfVectorizer\n",
    "from sklearn.preprocessing import PowerTransformer"
   ]
  },
  {
   "cell_type": "markdown",
   "metadata": {
    "id": "HfaZkOgjwOq2"
   },
   "source": [
    "## 1.Problem Statement\n",
    "- Create a model to classify the Drug type based on their features"
   ]
  },
  {
   "cell_type": "markdown",
   "metadata": {
    "id": "Eid79mq7wOq6"
   },
   "source": [
    "## 2. Data Collection"
   ]
  },
  {
   "cell_type": "code",
   "execution_count": 3,
   "metadata": {
    "colab": {
     "base_uri": "https://localhost:8080/",
     "height": 206
    },
    "execution": {
     "iopub.execute_input": "2025-05-07T07:08:04.950908Z",
     "iopub.status.busy": "2025-05-07T07:08:04.950908Z",
     "iopub.status.idle": "2025-05-07T07:08:04.967689Z",
     "shell.execute_reply": "2025-05-07T07:08:04.967689Z"
    },
    "executionInfo": {
     "elapsed": 33,
     "status": "ok",
     "timestamp": 1707154525081,
     "user": {
      "displayName": "Narasimharao",
      "userId": "17097520752763909307"
     },
     "user_tz": -330
    },
    "id": "pNKTioGFwOq7",
    "outputId": "3778375b-3b1c-4dc3-e38f-cb7881e12e7c"
   },
   "outputs": [
    {
     "data": {
      "text/html": [
       "<div>\n",
       "<style scoped>\n",
       "    .dataframe tbody tr th:only-of-type {\n",
       "        vertical-align: middle;\n",
       "    }\n",
       "\n",
       "    .dataframe tbody tr th {\n",
       "        vertical-align: top;\n",
       "    }\n",
       "\n",
       "    .dataframe thead th {\n",
       "        text-align: right;\n",
       "    }\n",
       "</style>\n",
       "<table border=\"1\" class=\"dataframe\">\n",
       "  <thead>\n",
       "    <tr style=\"text-align: right;\">\n",
       "      <th></th>\n",
       "      <th>Age</th>\n",
       "      <th>Sex</th>\n",
       "      <th>BP</th>\n",
       "      <th>Cholesterol</th>\n",
       "      <th>Na_to_K</th>\n",
       "      <th>Drug</th>\n",
       "    </tr>\n",
       "  </thead>\n",
       "  <tbody>\n",
       "    <tr>\n",
       "      <th>0</th>\n",
       "      <td>23</td>\n",
       "      <td>F</td>\n",
       "      <td>HIGH</td>\n",
       "      <td>HIGH</td>\n",
       "      <td>25.355</td>\n",
       "      <td>DrugY</td>\n",
       "    </tr>\n",
       "    <tr>\n",
       "      <th>1</th>\n",
       "      <td>47</td>\n",
       "      <td>M</td>\n",
       "      <td>LOW</td>\n",
       "      <td>HIGH</td>\n",
       "      <td>13.093</td>\n",
       "      <td>drugC</td>\n",
       "    </tr>\n",
       "    <tr>\n",
       "      <th>2</th>\n",
       "      <td>47</td>\n",
       "      <td>M</td>\n",
       "      <td>LOW</td>\n",
       "      <td>HIGH</td>\n",
       "      <td>10.114</td>\n",
       "      <td>drugC</td>\n",
       "    </tr>\n",
       "    <tr>\n",
       "      <th>3</th>\n",
       "      <td>28</td>\n",
       "      <td>F</td>\n",
       "      <td>NORMAL</td>\n",
       "      <td>HIGH</td>\n",
       "      <td>7.798</td>\n",
       "      <td>drugX</td>\n",
       "    </tr>\n",
       "    <tr>\n",
       "      <th>4</th>\n",
       "      <td>61</td>\n",
       "      <td>F</td>\n",
       "      <td>LOW</td>\n",
       "      <td>HIGH</td>\n",
       "      <td>18.043</td>\n",
       "      <td>DrugY</td>\n",
       "    </tr>\n",
       "  </tbody>\n",
       "</table>\n",
       "</div>"
      ],
      "text/plain": [
       "   Age Sex      BP Cholesterol  Na_to_K   Drug\n",
       "0   23   F    HIGH        HIGH   25.355  DrugY\n",
       "1   47   M     LOW        HIGH   13.093  drugC\n",
       "2   47   M     LOW        HIGH   10.114  drugC\n",
       "3   28   F  NORMAL        HIGH    7.798  drugX\n",
       "4   61   F     LOW        HIGH   18.043  DrugY"
      ]
     },
     "execution_count": 3,
     "metadata": {},
     "output_type": "execute_result"
    }
   ],
   "source": [
    "# collect the dataset from kaggle,which is used to create a good model for classification\n",
    "data = pd.read_csv(r\"C:\\Users\\GuruCharan\\Desktop\\Projects\\git_repos\\Machine-Learning\\Drugs Classification\\drug.csv\")\n",
    "data.head()"
   ]
  },
  {
   "cell_type": "markdown",
   "metadata": {
    "id": "qtaA2AM0wOq8"
   },
   "source": [
    "## 3. EDA and Pre-processing"
   ]
  },
  {
   "cell_type": "code",
   "execution_count": 4,
   "metadata": {
    "colab": {
     "base_uri": "https://localhost:8080/"
    },
    "execution": {
     "iopub.execute_input": "2025-05-07T07:08:05.009629Z",
     "iopub.status.busy": "2025-05-07T07:08:05.009629Z",
     "iopub.status.idle": "2025-05-07T07:08:05.014957Z",
     "shell.execute_reply": "2025-05-07T07:08:05.014957Z"
    },
    "executionInfo": {
     "elapsed": 31,
     "status": "ok",
     "timestamp": 1707154525081,
     "user": {
      "displayName": "Narasimharao",
      "userId": "17097520752763909307"
     },
     "user_tz": -330
    },
    "id": "9q6M8WnPwOq9",
    "outputId": "9a0d1c7e-1539-4e4f-9ece-0942c35a6a56"
   },
   "outputs": [
    {
     "data": {
      "text/plain": [
       "(200, 6)"
      ]
     },
     "execution_count": 4,
     "metadata": {},
     "output_type": "execute_result"
    }
   ],
   "source": [
    "data.shape   # data set contains 200 rows and 6 columns"
   ]
  },
  {
   "cell_type": "code",
   "execution_count": 5,
   "metadata": {
    "colab": {
     "base_uri": "https://localhost:8080/"
    },
    "execution": {
     "iopub.execute_input": "2025-05-07T07:08:05.020386Z",
     "iopub.status.busy": "2025-05-07T07:08:05.019312Z",
     "iopub.status.idle": "2025-05-07T07:08:05.031241Z",
     "shell.execute_reply": "2025-05-07T07:08:05.031241Z"
    },
    "executionInfo": {
     "elapsed": 28,
     "status": "ok",
     "timestamp": 1707154525081,
     "user": {
      "displayName": "Narasimharao",
      "userId": "17097520752763909307"
     },
     "user_tz": -330
    },
    "id": "E87FakdcwOq9",
    "outputId": "100407d5-88fa-4965-e66d-7729667ee239"
   },
   "outputs": [
    {
     "name": "stdout",
     "output_type": "stream",
     "text": [
      "<class 'pandas.core.frame.DataFrame'>\n",
      "RangeIndex: 200 entries, 0 to 199\n",
      "Data columns (total 6 columns):\n",
      " #   Column       Non-Null Count  Dtype  \n",
      "---  ------       --------------  -----  \n",
      " 0   Age          200 non-null    int64  \n",
      " 1   Sex          200 non-null    object \n",
      " 2   BP           200 non-null    object \n",
      " 3   Cholesterol  200 non-null    object \n",
      " 4   Na_to_K      200 non-null    float64\n",
      " 5   Drug         200 non-null    object \n",
      "dtypes: float64(1), int64(1), object(4)\n",
      "memory usage: 9.5+ KB\n"
     ]
    }
   ],
   "source": [
    "data.info()"
   ]
  },
  {
   "cell_type": "code",
   "execution_count": 6,
   "metadata": {
    "execution": {
     "iopub.execute_input": "2025-05-07T07:08:05.033891Z",
     "iopub.status.busy": "2025-05-07T07:08:05.033891Z",
     "iopub.status.idle": "2025-05-07T07:08:05.038896Z",
     "shell.execute_reply": "2025-05-07T07:08:05.038363Z"
    },
    "executionInfo": {
     "elapsed": 27,
     "status": "ok",
     "timestamp": 1707154525081,
     "user": {
      "displayName": "Narasimharao",
      "userId": "17097520752763909307"
     },
     "user_tz": -330
    },
    "id": "Fw21aciFZxTA"
   },
   "outputs": [],
   "source": [
    "# convert type of BP & cholestrol column into category\n",
    "data[\"BP\"] = data[\"BP\"].astype(\"category\")\n",
    "data[\"Cholesterol\"] = data[\"Cholesterol\"].astype(\"category\")"
   ]
  },
  {
   "cell_type": "code",
   "execution_count": 7,
   "metadata": {
    "colab": {
     "base_uri": "https://localhost:8080/"
    },
    "execution": {
     "iopub.execute_input": "2025-05-07T07:08:05.040907Z",
     "iopub.status.busy": "2025-05-07T07:08:05.040907Z",
     "iopub.status.idle": "2025-05-07T07:08:05.048537Z",
     "shell.execute_reply": "2025-05-07T07:08:05.048537Z"
    },
    "executionInfo": {
     "elapsed": 28,
     "status": "ok",
     "timestamp": 1707154525082,
     "user": {
      "displayName": "Narasimharao",
      "userId": "17097520752763909307"
     },
     "user_tz": -330
    },
    "id": "-XjWyvWpiUwC",
    "outputId": "5f6c36d4-20ff-486c-ca7b-00913c75e3b3"
   },
   "outputs": [
    {
     "name": "stdout",
     "output_type": "stream",
     "text": [
      "<class 'pandas.core.frame.DataFrame'>\n",
      "RangeIndex: 200 entries, 0 to 199\n",
      "Data columns (total 6 columns):\n",
      " #   Column       Non-Null Count  Dtype   \n",
      "---  ------       --------------  -----   \n",
      " 0   Age          200 non-null    int64   \n",
      " 1   Sex          200 non-null    object  \n",
      " 2   BP           200 non-null    category\n",
      " 3   Cholesterol  200 non-null    category\n",
      " 4   Na_to_K      200 non-null    float64 \n",
      " 5   Drug         200 non-null    object  \n",
      "dtypes: category(2), float64(1), int64(1), object(2)\n",
      "memory usage: 7.0+ KB\n"
     ]
    }
   ],
   "source": [
    "data.info()"
   ]
  },
  {
   "cell_type": "markdown",
   "metadata": {
    "id": "8OMJpdTiwOq-"
   },
   "source": [
    "- This data contains some numerical data and categorical data.\n"
   ]
  },
  {
   "cell_type": "code",
   "execution_count": 8,
   "metadata": {
    "colab": {
     "base_uri": "https://localhost:8080/"
    },
    "execution": {
     "iopub.execute_input": "2025-05-07T07:08:05.048537Z",
     "iopub.status.busy": "2025-05-07T07:08:05.048537Z",
     "iopub.status.idle": "2025-05-07T07:08:05.056028Z",
     "shell.execute_reply": "2025-05-07T07:08:05.056028Z"
    },
    "executionInfo": {
     "elapsed": 26,
     "status": "ok",
     "timestamp": 1707154525082,
     "user": {
      "displayName": "Narasimharao",
      "userId": "17097520752763909307"
     },
     "user_tz": -330
    },
    "id": "x3NRI-MswOq-",
    "outputId": "0da4a9ee-5196-45a6-803c-daa2114f0449"
   },
   "outputs": [
    {
     "data": {
      "text/plain": [
       "0"
      ]
     },
     "execution_count": 8,
     "metadata": {},
     "output_type": "execute_result"
    }
   ],
   "source": [
    "data.duplicated().sum()    # there is no duplicated values are here."
   ]
  },
  {
   "cell_type": "code",
   "execution_count": 9,
   "metadata": {
    "colab": {
     "base_uri": "https://localhost:8080/"
    },
    "execution": {
     "iopub.execute_input": "2025-05-07T07:08:05.059075Z",
     "iopub.status.busy": "2025-05-07T07:08:05.059075Z",
     "iopub.status.idle": "2025-05-07T07:08:05.065287Z",
     "shell.execute_reply": "2025-05-07T07:08:05.065287Z"
    },
    "executionInfo": {
     "elapsed": 25,
     "status": "ok",
     "timestamp": 1707154525082,
     "user": {
      "displayName": "Narasimharao",
      "userId": "17097520752763909307"
     },
     "user_tz": -330
    },
    "id": "K_6DP70ZwOq_",
    "outputId": "2b108a02-a6af-40c7-f876-9b922e25faee"
   },
   "outputs": [
    {
     "data": {
      "text/plain": [
       "Drug\n",
       "DrugY    91\n",
       "drugX    54\n",
       "drugA    23\n",
       "drugC    16\n",
       "drugB    16\n",
       "Name: count, dtype: int64"
      ]
     },
     "execution_count": 9,
     "metadata": {},
     "output_type": "execute_result"
    }
   ],
   "source": [
    "data.Drug.value_counts()  # it is im balanced data"
   ]
  },
  {
   "cell_type": "code",
   "execution_count": 10,
   "metadata": {
    "colab": {
     "base_uri": "https://localhost:8080/"
    },
    "execution": {
     "iopub.execute_input": "2025-05-07T07:08:05.065287Z",
     "iopub.status.busy": "2025-05-07T07:08:05.065287Z",
     "iopub.status.idle": "2025-05-07T07:08:05.071231Z",
     "shell.execute_reply": "2025-05-07T07:08:05.071231Z"
    },
    "executionInfo": {
     "elapsed": 24,
     "status": "ok",
     "timestamp": 1707154525082,
     "user": {
      "displayName": "Narasimharao",
      "userId": "17097520752763909307"
     },
     "user_tz": -330
    },
    "id": "J2YrPgfywOq_",
    "outputId": "41d3235f-0f81-4e55-f2fe-978561f6e09d"
   },
   "outputs": [
    {
     "data": {
      "text/plain": [
       "array(['F', 'M'], dtype=object)"
      ]
     },
     "execution_count": 10,
     "metadata": {},
     "output_type": "execute_result"
    }
   ],
   "source": [
    "data.Sex.unique()     # Sex feature contains two values male as M and female as F"
   ]
  },
  {
   "cell_type": "code",
   "execution_count": 11,
   "metadata": {
    "colab": {
     "base_uri": "https://localhost:8080/"
    },
    "execution": {
     "iopub.execute_input": "2025-05-07T07:08:05.071231Z",
     "iopub.status.busy": "2025-05-07T07:08:05.071231Z",
     "iopub.status.idle": "2025-05-07T07:08:05.078688Z",
     "shell.execute_reply": "2025-05-07T07:08:05.078688Z"
    },
    "executionInfo": {
     "elapsed": 22,
     "status": "ok",
     "timestamp": 1707154525082,
     "user": {
      "displayName": "Narasimharao",
      "userId": "17097520752763909307"
     },
     "user_tz": -330
    },
    "id": "cYWwgzwdwOq_",
    "outputId": "11e5c94a-f8bd-4fa3-baf0-0c482b98acbe"
   },
   "outputs": [
    {
     "data": {
      "text/plain": [
       "['HIGH', 'LOW', 'NORMAL']\n",
       "Categories (3, object): ['HIGH', 'LOW', 'NORMAL']"
      ]
     },
     "execution_count": 11,
     "metadata": {},
     "output_type": "execute_result"
    }
   ],
   "source": [
    "data.BP.unique()      # BP feature contains three values HIGH,LOW and NORMAL."
   ]
  },
  {
   "cell_type": "code",
   "execution_count": 12,
   "metadata": {
    "colab": {
     "base_uri": "https://localhost:8080/"
    },
    "execution": {
     "iopub.execute_input": "2025-05-07T07:08:05.078688Z",
     "iopub.status.busy": "2025-05-07T07:08:05.078688Z",
     "iopub.status.idle": "2025-05-07T07:08:05.086066Z",
     "shell.execute_reply": "2025-05-07T07:08:05.086066Z"
    },
    "executionInfo": {
     "elapsed": 21,
     "status": "ok",
     "timestamp": 1707154525082,
     "user": {
      "displayName": "Narasimharao",
      "userId": "17097520752763909307"
     },
     "user_tz": -330
    },
    "id": "P7F4P6tTwOq_",
    "outputId": "0c8e8cf6-4c3c-4dff-931f-88e9b5bd0d96"
   },
   "outputs": [
    {
     "data": {
      "text/plain": [
       "['HIGH', 'NORMAL']\n",
       "Categories (2, object): ['HIGH', 'NORMAL']"
      ]
     },
     "execution_count": 12,
     "metadata": {},
     "output_type": "execute_result"
    }
   ],
   "source": [
    "data.Cholesterol.unique()   # Cholesterol feature contains two values HIGH and NORMAL"
   ]
  },
  {
   "cell_type": "code",
   "execution_count": 13,
   "metadata": {
    "colab": {
     "base_uri": "https://localhost:8080/"
    },
    "execution": {
     "iopub.execute_input": "2025-05-07T07:08:05.086066Z",
     "iopub.status.busy": "2025-05-07T07:08:05.086066Z",
     "iopub.status.idle": "2025-05-07T07:08:05.092958Z",
     "shell.execute_reply": "2025-05-07T07:08:05.092958Z"
    },
    "executionInfo": {
     "elapsed": 20,
     "status": "ok",
     "timestamp": 1707154525082,
     "user": {
      "displayName": "Narasimharao",
      "userId": "17097520752763909307"
     },
     "user_tz": -330
    },
    "id": "tQMxly7cwOrA",
    "outputId": "0bc39a69-f54a-4131-9854-1351c4cade47"
   },
   "outputs": [
    {
     "data": {
      "text/plain": [
       "array(['DrugY', 'drugC', 'drugX', 'drugA', 'drugB'], dtype=object)"
      ]
     },
     "execution_count": 13,
     "metadata": {},
     "output_type": "execute_result"
    }
   ],
   "source": [
    "data.Drug.unique()         # Drug feature contains FIVE values DrugY,drugC,drugX,drugA and drugB."
   ]
  },
  {
   "cell_type": "code",
   "execution_count": 14,
   "metadata": {
    "colab": {
     "base_uri": "https://localhost:8080/",
     "height": 449
    },
    "execution": {
     "iopub.execute_input": "2025-05-07T07:08:05.092958Z",
     "iopub.status.busy": "2025-05-07T07:08:05.092958Z",
     "iopub.status.idle": "2025-05-07T07:08:05.196056Z",
     "shell.execute_reply": "2025-05-07T07:08:05.196056Z"
    },
    "executionInfo": {
     "elapsed": 950,
     "status": "ok",
     "timestamp": 1707154526013,
     "user": {
      "displayName": "Narasimharao",
      "userId": "17097520752763909307"
     },
     "user_tz": -330
    },
    "id": "paLc3_ilwOrA",
    "outputId": "90f921d7-3507-4e2c-f9d4-8d7eda77ef61"
   },
   "outputs": [
    {
     "data": {
      "image/png": "[encoded data removed]",
      "text/plain": [
       "<Figure size 640x480 with 1 Axes>"
      ]
     },
     "metadata": {},
     "output_type": "display_data"
    }
   ],
   "source": [
    "sns.countplot(data.Drug)\n",
    "plt.show()"
   ]
  },
  {
   "cell_type": "code",
   "execution_count": 15,
   "metadata": {
    "execution": {
     "iopub.execute_input": "2025-05-07T07:08:05.196056Z",
     "iopub.status.busy": "2025-05-07T07:08:05.196056Z",
     "iopub.status.idle": "2025-05-07T07:08:05.202634Z",
     "shell.execute_reply": "2025-05-07T07:08:05.202634Z"
    },
    "executionInfo": {
     "elapsed": 45,
     "status": "ok",
     "timestamp": 1707154526013,
     "user": {
      "displayName": "Narasimharao",
      "userId": "17097520752763909307"
     },
     "user_tz": -330
    },
    "id": "ffPCIejzwOrA"
   },
   "outputs": [],
   "source": [
    "fv = data.iloc[:,:-1]    # split data into features and class variables\n",
    "cv = data.iloc[:,-1]"
   ]
  },
  {
   "cell_type": "code",
   "execution_count": 16,
   "metadata": {
    "colab": {
     "base_uri": "https://localhost:8080/",
     "height": 206
    },
    "execution": {
     "iopub.execute_input": "2025-05-07T07:08:05.202634Z",
     "iopub.status.busy": "2025-05-07T07:08:05.202634Z",
     "iopub.status.idle": "2025-05-07T07:08:05.212903Z",
     "shell.execute_reply": "2025-05-07T07:08:05.212903Z"
    },
    "executionInfo": {
     "elapsed": 44,
     "status": "ok",
     "timestamp": 1707154526013,
     "user": {
      "displayName": "Narasimharao",
      "userId": "17097520752763909307"
     },
     "user_tz": -330
    },
    "id": "5LHWTj4ywOrA",
    "outputId": "03c63858-aa05-459c-cdfb-90f6ea86aff1"
   },
   "outputs": [
    {
     "data": {
      "text/html": [
       "<div>\n",
       "<style scoped>\n",
       "    .dataframe tbody tr th:only-of-type {\n",
       "        vertical-align: middle;\n",
       "    }\n",
       "\n",
       "    .dataframe tbody tr th {\n",
       "        vertical-align: top;\n",
       "    }\n",
       "\n",
       "    .dataframe thead th {\n",
       "        text-align: right;\n",
       "    }\n",
       "</style>\n",
       "<table border=\"1\" class=\"dataframe\">\n",
       "  <thead>\n",
       "    <tr style=\"text-align: right;\">\n",
       "      <th></th>\n",
       "      <th>Age</th>\n",
       "      <th>Sex</th>\n",
       "      <th>BP</th>\n",
       "      <th>Cholesterol</th>\n",
       "      <th>Na_to_K</th>\n",
       "    </tr>\n",
       "  </thead>\n",
       "  <tbody>\n",
       "    <tr>\n",
       "      <th>0</th>\n",
       "      <td>23</td>\n",
       "      <td>F</td>\n",
       "      <td>HIGH</td>\n",
       "      <td>HIGH</td>\n",
       "      <td>25.355</td>\n",
       "    </tr>\n",
       "    <tr>\n",
       "      <th>1</th>\n",
       "      <td>47</td>\n",
       "      <td>M</td>\n",
       "      <td>LOW</td>\n",
       "      <td>HIGH</td>\n",
       "      <td>13.093</td>\n",
       "    </tr>\n",
       "    <tr>\n",
       "      <th>2</th>\n",
       "      <td>47</td>\n",
       "      <td>M</td>\n",
       "      <td>LOW</td>\n",
       "      <td>HIGH</td>\n",
       "      <td>10.114</td>\n",
       "    </tr>\n",
       "    <tr>\n",
       "      <th>3</th>\n",
       "      <td>28</td>\n",
       "      <td>F</td>\n",
       "      <td>NORMAL</td>\n",
       "      <td>HIGH</td>\n",
       "      <td>7.798</td>\n",
       "    </tr>\n",
       "    <tr>\n",
       "      <th>4</th>\n",
       "      <td>61</td>\n",
       "      <td>F</td>\n",
       "      <td>LOW</td>\n",
       "      <td>HIGH</td>\n",
       "      <td>18.043</td>\n",
       "    </tr>\n",
       "  </tbody>\n",
       "</table>\n",
       "</div>"
      ],
      "text/plain": [
       "   Age Sex      BP Cholesterol  Na_to_K\n",
       "0   23   F    HIGH        HIGH   25.355\n",
       "1   47   M     LOW        HIGH   13.093\n",
       "2   47   M     LOW        HIGH   10.114\n",
       "3   28   F  NORMAL        HIGH    7.798\n",
       "4   61   F     LOW        HIGH   18.043"
      ]
     },
     "execution_count": 16,
     "metadata": {},
     "output_type": "execute_result"
    }
   ],
   "source": [
    "fv.head()"
   ]
  },
  {
   "cell_type": "code",
   "execution_count": 17,
   "metadata": {
    "colab": {
     "base_uri": "https://localhost:8080/"
    },
    "execution": {
     "iopub.execute_input": "2025-05-07T07:08:05.214992Z",
     "iopub.status.busy": "2025-05-07T07:08:05.214992Z",
     "iopub.status.idle": "2025-05-07T07:08:05.219707Z",
     "shell.execute_reply": "2025-05-07T07:08:05.219707Z"
    },
    "executionInfo": {
     "elapsed": 44,
     "status": "ok",
     "timestamp": 1707154526013,
     "user": {
      "displayName": "Narasimharao",
      "userId": "17097520752763909307"
     },
     "user_tz": -330
    },
    "id": "EreIhGPgwOrA",
    "outputId": "bdc4cb0b-76b6-431d-a8c7-e1b022028193"
   },
   "outputs": [
    {
     "data": {
      "text/plain": [
       "0    DrugY\n",
       "1    drugC\n",
       "2    drugC\n",
       "3    drugX\n",
       "4    DrugY\n",
       "Name: Drug, dtype: object"
      ]
     },
     "execution_count": 17,
     "metadata": {},
     "output_type": "execute_result"
    }
   ],
   "source": [
    "cv.head()"
   ]
  },
  {
   "cell_type": "code",
   "execution_count": 18,
   "metadata": {
    "execution": {
     "iopub.execute_input": "2025-05-07T07:08:05.221670Z",
     "iopub.status.busy": "2025-05-07T07:08:05.221670Z",
     "iopub.status.idle": "2025-05-07T07:08:05.225338Z",
     "shell.execute_reply": "2025-05-07T07:08:05.225338Z"
    },
    "executionInfo": {
     "elapsed": 42,
     "status": "ok",
     "timestamp": 1707154526013,
     "user": {
      "displayName": "Narasimharao",
      "userId": "17097520752763909307"
     },
     "user_tz": -330
    },
    "id": "r60eiJYdMqsP"
   },
   "outputs": [],
   "source": [
    "from sklearn.preprocessing import LabelEncoder\n",
    "lbe = LabelEncoder()    # create an instance of Lable encoder class\n",
    "cv = lbe.fit_transform(cv)"
   ]
  },
  {
   "cell_type": "code",
   "execution_count": 19,
   "metadata": {
    "colab": {
     "base_uri": "https://localhost:8080/"
    },
    "execution": {
     "iopub.execute_input": "2025-05-07T07:08:05.227561Z",
     "iopub.status.busy": "2025-05-07T07:08:05.227561Z",
     "iopub.status.idle": "2025-05-07T07:08:05.232334Z",
     "shell.execute_reply": "2025-05-07T07:08:05.232334Z"
    },
    "executionInfo": {
     "elapsed": 42,
     "status": "ok",
     "timestamp": 1707154526013,
     "user": {
      "displayName": "Narasimharao",
      "userId": "17097520752763909307"
     },
     "user_tz": -330
    },
    "id": "k4hkFjKNMqu-",
    "outputId": "1cfa9df0-0646-4a73-858a-feea77ba2cab"
   },
   "outputs": [
    {
     "data": {
      "text/plain": [
       "array([0, 3, 3, 4, 0, 4, 0, 3, 0, 0, 3, 0, 0, 0, 4, 0, 4, 1, 3, 0, 0, 0,\n",
       "       0, 0, 0, 0, 0, 4, 0, 0, 4, 2, 4, 0, 4, 4, 1, 4, 4, 4, 0, 2, 0, 4,\n",
       "       4, 4, 1, 3, 0, 0, 0, 4, 0, 0, 2, 3, 2, 0, 4, 0, 0, 1, 0, 4, 2, 0,\n",
       "       1, 4, 0, 0, 2, 0, 4, 0, 0, 0, 1, 0, 1, 4, 2, 4, 3, 1, 3, 2, 4, 0,\n",
       "       0, 0, 0, 0, 0, 0, 0, 4, 0, 0, 0, 0, 1, 1, 3, 4, 0, 4, 4, 0, 2, 0,\n",
       "       1, 4, 4, 4, 4, 0, 4, 4, 1, 0, 0, 0, 0, 0, 2, 0, 0, 4, 0, 4, 0, 0,\n",
       "       4, 0, 0, 4, 2, 1, 2, 4, 1, 0, 2, 0, 1, 4, 4, 1, 4, 3, 1, 2, 4, 4,\n",
       "       0, 3, 1, 0, 3, 4, 4, 2, 4, 0, 0, 0, 0, 4, 0, 1, 4, 4, 0, 0, 1, 0,\n",
       "       1, 0, 0, 0, 0, 4, 4, 0, 0, 0, 2, 1, 0, 0, 0, 1, 0, 3, 0, 3, 3, 4,\n",
       "       4, 4])"
      ]
     },
     "execution_count": 19,
     "metadata": {},
     "output_type": "execute_result"
    }
   ],
   "source": [
    "cv"
   ]
  },
  {
   "cell_type": "markdown",
   "metadata": {
    "id": "ghxe4uXpwOrB"
   },
   "source": [
    "## 5. EDA"
   ]
  },
  {
   "cell_type": "code",
   "execution_count": 20,
   "metadata": {
    "colab": {
     "base_uri": "https://localhost:8080/",
     "height": 180
    },
    "execution": {
     "iopub.execute_input": "2025-05-07T07:08:05.232334Z",
     "iopub.status.busy": "2025-05-07T07:08:05.232334Z",
     "iopub.status.idle": "2025-05-07T07:08:05.241590Z",
     "shell.execute_reply": "2025-05-07T07:08:05.241019Z"
    },
    "executionInfo": {
     "elapsed": 397,
     "status": "ok",
     "timestamp": 1707154547567,
     "user": {
      "displayName": "Narasimharao",
      "userId": "17097520752763909307"
     },
     "user_tz": -330
    },
    "id": "5tjMxcfMwOrC",
    "outputId": "e6586019-69a7-46cf-92fb-a13f01db5bef"
   },
   "outputs": [
    {
     "data": {
      "text/html": [
       "<div>\n",
       "<style scoped>\n",
       "    .dataframe tbody tr th:only-of-type {\n",
       "        vertical-align: middle;\n",
       "    }\n",
       "\n",
       "    .dataframe tbody tr th {\n",
       "        vertical-align: top;\n",
       "    }\n",
       "\n",
       "    .dataframe thead th {\n",
       "        text-align: right;\n",
       "    }\n",
       "</style>\n",
       "<table border=\"1\" class=\"dataframe\">\n",
       "  <thead>\n",
       "    <tr style=\"text-align: right;\">\n",
       "      <th></th>\n",
       "      <th>Age</th>\n",
       "      <th>Na_to_K</th>\n",
       "    </tr>\n",
       "  </thead>\n",
       "  <tbody>\n",
       "    <tr>\n",
       "      <th>Age</th>\n",
       "      <td>1.000000</td>\n",
       "      <td>-0.063119</td>\n",
       "    </tr>\n",
       "    <tr>\n",
       "      <th>Na_to_K</th>\n",
       "      <td>-0.063119</td>\n",
       "      <td>1.000000</td>\n",
       "    </tr>\n",
       "  </tbody>\n",
       "</table>\n",
       "</div>"
      ],
      "text/plain": [
       "              Age   Na_to_K\n",
       "Age      1.000000 -0.063119\n",
       "Na_to_K -0.063119  1.000000"
      ]
     },
     "execution_count": 20,
     "metadata": {},
     "output_type": "execute_result"
    }
   ],
   "source": [
    "# find the relation between features\n",
    "# Correlation matrix\n",
    "corr_matrix = fv.corr(numeric_only=True)\n",
    "corr_matrix"
   ]
  },
  {
   "cell_type": "code",
   "execution_count": 21,
   "metadata": {
    "colab": {
     "base_uri": "https://localhost:8080/",
     "height": 435
    },
    "execution": {
     "iopub.execute_input": "2025-05-07T07:08:05.244616Z",
     "iopub.status.busy": "2025-05-07T07:08:05.244616Z",
     "iopub.status.idle": "2025-05-07T07:08:05.353980Z",
     "shell.execute_reply": "2025-05-07T07:08:05.353980Z"
    },
    "executionInfo": {
     "elapsed": 1189,
     "status": "ok",
     "timestamp": 1707154554919,
     "user": {
      "displayName": "Narasimharao",
      "userId": "17097520752763909307"
     },
     "user_tz": -330
    },
    "id": "yyeljF8lwOrC",
    "outputId": "80460f29-290f-47ec-d226-8799d29a385e"
   },
   "outputs": [
    {
     "data": {
      "image/png": "[encoded data removed]",
      "text/plain": [
       "<Figure size 640x480 with 2 Axes>"
      ]
     },
     "metadata": {},
     "output_type": "display_data"
    }
   ],
   "source": [
    "sns.heatmap(corr_matrix, annot=True, cmap='YlGnBu')\n",
    "plt.show()"
   ]
  },
  {
   "cell_type": "markdown",
   "metadata": {
    "id": "XmjxAk8XwOrN"
   },
   "source": [
    "Based on above graphs, all the features follows Gaussian distribution,So we performe Gaussian Naive bayes"
   ]
  },
  {
   "cell_type": "markdown",
   "metadata": {
    "id": "3iqVVb2ES-Jp"
   },
   "source": [
    "### 6.Feature Engineering"
   ]
  },
  {
   "cell_type": "code",
   "execution_count": 22,
   "metadata": {
    "execution": {
     "iopub.execute_input": "2025-05-07T07:08:05.356777Z",
     "iopub.status.busy": "2025-05-07T07:08:05.356777Z",
     "iopub.status.idle": "2025-05-07T07:08:05.526500Z",
     "shell.execute_reply": "2025-05-07T07:08:05.526500Z"
    },
    "executionInfo": {
     "elapsed": 389,
     "status": "ok",
     "timestamp": 1707154566522,
     "user": {
      "displayName": "Narasimharao",
      "userId": "17097520752763909307"
     },
     "user_tz": -330
    },
    "id": "bqMJvXcnJM5j"
   },
   "outputs": [],
   "source": [
    "from sklearn.compose import ColumnTransformer\n",
    "from sklearn.pipeline import Pipeline,make_pipeline\n",
    "from sklearn.model_selection import train_test_split\n",
    "from sklearn.preprocessing import StandardScaler,OneHotEncoder,OrdinalEncoder,FunctionTransformer\n",
    "from sklearn.impute import SimpleImputer"
   ]
  },
  {
   "cell_type": "code",
   "execution_count": 23,
   "metadata": {
    "execution": {
     "iopub.execute_input": "2025-05-07T07:08:05.528746Z",
     "iopub.status.busy": "2025-05-07T07:08:05.528746Z",
     "iopub.status.idle": "2025-05-07T07:08:05.534256Z",
     "shell.execute_reply": "2025-05-07T07:08:05.534256Z"
    },
    "executionInfo": {
     "elapsed": 605,
     "status": "ok",
     "timestamp": 1707154571190,
     "user": {
      "displayName": "Narasimharao",
      "userId": "17097520752763909307"
     },
     "user_tz": -330
    },
    "id": "7Zzzwdy5JM84"
   },
   "outputs": [],
   "source": [
    "# split fv and cv into x_train,x_test,y_train and y_test\n",
    "x_train,x_test,y_train,y_test=train_test_split(fv,cv,test_size=0.2,stratify = cv)"
   ]
  },
  {
   "cell_type": "code",
   "execution_count": 24,
   "metadata": {
    "execution": {
     "iopub.execute_input": "2025-05-07T07:08:05.536619Z",
     "iopub.status.busy": "2025-05-07T07:08:05.536619Z",
     "iopub.status.idle": "2025-05-07T07:08:05.541429Z",
     "shell.execute_reply": "2025-05-07T07:08:05.541429Z"
    },
    "executionInfo": {
     "elapsed": 4,
     "status": "ok",
     "timestamp": 1707154572751,
     "user": {
      "displayName": "Narasimharao",
      "userId": "17097520752763909307"
     },
     "user_tz": -330
    },
    "id": "-LX3MEEKJUZm"
   },
   "outputs": [],
   "source": [
    "# split entire x_train into numerical,nominal and ordinal data\n",
    "numerical_data=x_train.select_dtypes(include=[\"int64\",\"float64\"])\n",
    "nominal_data=x_train.select_dtypes(include=[\"object\"])\n",
    "ordinal_data = x_train.select_dtypes(include = [\"category\"])"
   ]
  },
  {
   "cell_type": "code",
   "execution_count": 25,
   "metadata": {
    "colab": {
     "base_uri": "https://localhost:8080/",
     "height": 206
    },
    "execution": {
     "iopub.execute_input": "2025-05-07T07:08:05.541429Z",
     "iopub.status.busy": "2025-05-07T07:08:05.541429Z",
     "iopub.status.idle": "2025-05-07T07:08:05.550776Z",
     "shell.execute_reply": "2025-05-07T07:08:05.550776Z"
    },
    "executionInfo": {
     "elapsed": 13,
     "status": "ok",
     "timestamp": 1707154574292,
     "user": {
      "displayName": "Narasimharao",
      "userId": "17097520752763909307"
     },
     "user_tz": -330
    },
    "id": "Y2Jz2gYkJwxo",
    "outputId": "7fefa8cf-bc48-4c94-90b8-551f569e341f"
   },
   "outputs": [
    {
     "data": {
      "text/html": [
       "<div>\n",
       "<style scoped>\n",
       "    .dataframe tbody tr th:only-of-type {\n",
       "        vertical-align: middle;\n",
       "    }\n",
       "\n",
       "    .dataframe tbody tr th {\n",
       "        vertical-align: top;\n",
       "    }\n",
       "\n",
       "    .dataframe thead th {\n",
       "        text-align: right;\n",
       "    }\n",
       "</style>\n",
       "<table border=\"1\" class=\"dataframe\">\n",
       "  <thead>\n",
       "    <tr style=\"text-align: right;\">\n",
       "      <th></th>\n",
       "      <th>Age</th>\n",
       "      <th>Na_to_K</th>\n",
       "    </tr>\n",
       "  </thead>\n",
       "  <tbody>\n",
       "    <tr>\n",
       "      <th>28</th>\n",
       "      <td>39</td>\n",
       "      <td>22.697</td>\n",
       "    </tr>\n",
       "    <tr>\n",
       "      <th>121</th>\n",
       "      <td>15</td>\n",
       "      <td>17.206</td>\n",
       "    </tr>\n",
       "    <tr>\n",
       "      <th>45</th>\n",
       "      <td>66</td>\n",
       "      <td>8.107</td>\n",
       "    </tr>\n",
       "    <tr>\n",
       "      <th>123</th>\n",
       "      <td>36</td>\n",
       "      <td>16.753</td>\n",
       "    </tr>\n",
       "    <tr>\n",
       "      <th>18</th>\n",
       "      <td>23</td>\n",
       "      <td>7.298</td>\n",
       "    </tr>\n",
       "  </tbody>\n",
       "</table>\n",
       "</div>"
      ],
      "text/plain": [
       "     Age  Na_to_K\n",
       "28    39   22.697\n",
       "121   15   17.206\n",
       "45    66    8.107\n",
       "123   36   16.753\n",
       "18    23    7.298"
      ]
     },
     "execution_count": 25,
     "metadata": {},
     "output_type": "execute_result"
    }
   ],
   "source": [
    "numerical_data.head()"
   ]
  },
  {
   "cell_type": "code",
   "execution_count": 26,
   "metadata": {
    "colab": {
     "base_uri": "https://localhost:8080/",
     "height": 206
    },
    "execution": {
     "iopub.execute_input": "2025-05-07T07:08:05.550776Z",
     "iopub.status.busy": "2025-05-07T07:08:05.550776Z",
     "iopub.status.idle": "2025-05-07T07:08:05.561083Z",
     "shell.execute_reply": "2025-05-07T07:08:05.561083Z"
    },
    "executionInfo": {
     "elapsed": 427,
     "status": "ok",
     "timestamp": 1707154578594,
     "user": {
      "displayName": "Narasimharao",
      "userId": "17097520752763909307"
     },
     "user_tz": -330
    },
    "id": "ZlqmfZOJBX8m",
    "outputId": "ba488b06-4ab7-4c0b-8e39-5460636ea167"
   },
   "outputs": [
    {
     "data": {
      "text/html": [
       "<div>\n",
       "<style scoped>\n",
       "    .dataframe tbody tr th:only-of-type {\n",
       "        vertical-align: middle;\n",
       "    }\n",
       "\n",
       "    .dataframe tbody tr th {\n",
       "        vertical-align: top;\n",
       "    }\n",
       "\n",
       "    .dataframe thead th {\n",
       "        text-align: right;\n",
       "    }\n",
       "</style>\n",
       "<table border=\"1\" class=\"dataframe\">\n",
       "  <thead>\n",
       "    <tr style=\"text-align: right;\">\n",
       "      <th></th>\n",
       "      <th>BP</th>\n",
       "      <th>Cholesterol</th>\n",
       "    </tr>\n",
       "  </thead>\n",
       "  <tbody>\n",
       "    <tr>\n",
       "      <th>28</th>\n",
       "      <td>LOW</td>\n",
       "      <td>NORMAL</td>\n",
       "    </tr>\n",
       "    <tr>\n",
       "      <th>121</th>\n",
       "      <td>HIGH</td>\n",
       "      <td>NORMAL</td>\n",
       "    </tr>\n",
       "    <tr>\n",
       "      <th>45</th>\n",
       "      <td>NORMAL</td>\n",
       "      <td>NORMAL</td>\n",
       "    </tr>\n",
       "    <tr>\n",
       "      <th>123</th>\n",
       "      <td>NORMAL</td>\n",
       "      <td>HIGH</td>\n",
       "    </tr>\n",
       "    <tr>\n",
       "      <th>18</th>\n",
       "      <td>LOW</td>\n",
       "      <td>HIGH</td>\n",
       "    </tr>\n",
       "  </tbody>\n",
       "</table>\n",
       "</div>"
      ],
      "text/plain": [
       "         BP Cholesterol\n",
       "28      LOW      NORMAL\n",
       "121    HIGH      NORMAL\n",
       "45   NORMAL      NORMAL\n",
       "123  NORMAL        HIGH\n",
       "18      LOW        HIGH"
      ]
     },
     "execution_count": 26,
     "metadata": {},
     "output_type": "execute_result"
    }
   ],
   "source": [
    "ordinal_data.head()"
   ]
  },
  {
   "cell_type": "code",
   "execution_count": 27,
   "metadata": {
    "colab": {
     "base_uri": "https://localhost:8080/",
     "height": 206
    },
    "execution": {
     "iopub.execute_input": "2025-05-07T07:08:05.563232Z",
     "iopub.status.busy": "2025-05-07T07:08:05.563232Z",
     "iopub.status.idle": "2025-05-07T07:08:05.569774Z",
     "shell.execute_reply": "2025-05-07T07:08:05.569774Z"
    },
    "executionInfo": {
     "elapsed": 11,
     "status": "ok",
     "timestamp": 1707154579833,
     "user": {
      "displayName": "Narasimharao",
      "userId": "17097520752763909307"
     },
     "user_tz": -330
    },
    "id": "-HDdhfl_Jw0m",
    "outputId": "34d061d5-076c-4eb5-87ee-5264f5c49638"
   },
   "outputs": [
    {
     "data": {
      "text/html": [
       "<div>\n",
       "<style scoped>\n",
       "    .dataframe tbody tr th:only-of-type {\n",
       "        vertical-align: middle;\n",
       "    }\n",
       "\n",
       "    .dataframe tbody tr th {\n",
       "        vertical-align: top;\n",
       "    }\n",
       "\n",
       "    .dataframe thead th {\n",
       "        text-align: right;\n",
       "    }\n",
       "</style>\n",
       "<table border=\"1\" class=\"dataframe\">\n",
       "  <thead>\n",
       "    <tr style=\"text-align: right;\">\n",
       "      <th></th>\n",
       "      <th>Sex</th>\n",
       "    </tr>\n",
       "  </thead>\n",
       "  <tbody>\n",
       "    <tr>\n",
       "      <th>28</th>\n",
       "      <td>F</td>\n",
       "    </tr>\n",
       "    <tr>\n",
       "      <th>121</th>\n",
       "      <td>M</td>\n",
       "    </tr>\n",
       "    <tr>\n",
       "      <th>45</th>\n",
       "      <td>F</td>\n",
       "    </tr>\n",
       "    <tr>\n",
       "      <th>123</th>\n",
       "      <td>F</td>\n",
       "    </tr>\n",
       "    <tr>\n",
       "      <th>18</th>\n",
       "      <td>M</td>\n",
       "    </tr>\n",
       "  </tbody>\n",
       "</table>\n",
       "</div>"
      ],
      "text/plain": [
       "    Sex\n",
       "28    F\n",
       "121   M\n",
       "45    F\n",
       "123   F\n",
       "18    M"
      ]
     },
     "execution_count": 27,
     "metadata": {},
     "output_type": "execute_result"
    }
   ],
   "source": [
    "nominal_data.head()"
   ]
  },
  {
   "cell_type": "code",
   "execution_count": 28,
   "metadata": {
    "colab": {
     "base_uri": "https://localhost:8080/"
    },
    "execution": {
     "iopub.execute_input": "2025-05-07T07:08:05.572805Z",
     "iopub.status.busy": "2025-05-07T07:08:05.572805Z",
     "iopub.status.idle": "2025-05-07T07:08:05.577216Z",
     "shell.execute_reply": "2025-05-07T07:08:05.577216Z"
    },
    "executionInfo": {
     "elapsed": 5,
     "status": "ok",
     "timestamp": 1707154580518,
     "user": {
      "displayName": "Narasimharao",
      "userId": "17097520752763909307"
     },
     "user_tz": -330
    },
    "id": "s8fqS29ZJw3L",
    "outputId": "bec0f772-824b-4805-ad65-687dab60e2df"
   },
   "outputs": [
    {
     "data": {
      "text/plain": [
       "Index(['BP', 'Cholesterol'], dtype='object')"
      ]
     },
     "execution_count": 28,
     "metadata": {},
     "output_type": "execute_result"
    }
   ],
   "source": [
    "ordinal_data.columns"
   ]
  },
  {
   "cell_type": "code",
   "execution_count": 29,
   "metadata": {
    "execution": {
     "iopub.execute_input": "2025-05-07T07:08:05.577216Z",
     "iopub.status.busy": "2025-05-07T07:08:05.577216Z",
     "iopub.status.idle": "2025-05-07T07:08:05.584108Z",
     "shell.execute_reply": "2025-05-07T07:08:05.584108Z"
    },
    "executionInfo": {
     "elapsed": 5,
     "status": "ok",
     "timestamp": 1707154581477,
     "user": {
      "displayName": "Narasimharao",
      "userId": "17097520752763909307"
     },
     "user_tz": -330
    },
    "id": "wB5BkTCvJUcA"
   },
   "outputs": [],
   "source": [
    "nup=Pipeline([('Null_values_imputation_1', SimpleImputer(strategy='mean')),\n",
    "                           ('StandardScalar', StandardScaler()),\n",
    "                           ('Power_Transform',PowerTransformer())])\n",
    "nom_p = Pipeline([('Null_values_imputation_2', SimpleImputer(strategy='most_frequent')),\n",
    "                         ('OH_Encoding', OneHotEncoder(sparse_output= False,drop= 'first'))])\n",
    "ordinal_p = Pipeline([('Null_values_imputation_2', SimpleImputer(strategy='most_frequent')),\n",
    "                         ('Ordinal_Encoding', OrdinalEncoder(categories= [['NORMAL','LOW','HIGH'],['NORMAL','HIGH']]))])"
   ]
  },
  {
   "cell_type": "code",
   "execution_count": 30,
   "metadata": {
    "execution": {
     "iopub.execute_input": "2025-05-07T07:08:05.586138Z",
     "iopub.status.busy": "2025-05-07T07:08:05.586138Z",
     "iopub.status.idle": "2025-05-07T07:08:05.589748Z",
     "shell.execute_reply": "2025-05-07T07:08:05.589748Z"
    },
    "executionInfo": {
     "elapsed": 3,
     "status": "ok",
     "timestamp": 1707154582952,
     "user": {
      "displayName": "Narasimharao",
      "userId": "17097520752763909307"
     },
     "user_tz": -330
    },
    "id": "sdorDooJzuf0"
   },
   "outputs": [],
   "source": [
    "prepro_col_trans = ColumnTransformer(transformers= [('Ordinal_Pre-Processing', ordinal_p, ordinal_data.columns),\n",
    "                                                    ('Nominal_Pre-Processing', nom_p, nominal_data.columns),\n",
    "                                                    ('numerical_Pre-Processing', nup, numerical_data.columns)],\n",
    "                                     remainder=\"passthrough\")\n",
    "\n"
   ]
  },
  {
   "cell_type": "code",
   "execution_count": 31,
   "metadata": {
    "execution": {
     "iopub.execute_input": "2025-05-07T07:08:05.592594Z",
     "iopub.status.busy": "2025-05-07T07:08:05.592594Z",
     "iopub.status.idle": "2025-05-07T07:08:05.594980Z",
     "shell.execute_reply": "2025-05-07T07:08:05.594980Z"
    },
    "executionInfo": {
     "elapsed": 4,
     "status": "ok",
     "timestamp": 1707154584673,
     "user": {
      "displayName": "Narasimharao",
      "userId": "17097520752763909307"
     },
     "user_tz": -330
    },
    "id": "-BZt8KgKzukn"
   },
   "outputs": [],
   "source": [
    "final_pipe = Pipeline([('Pre-Processing',prepro_col_trans)])"
   ]
  },
  {
   "cell_type": "code",
   "execution_count": 32,
   "metadata": {
    "colab": {
     "base_uri": "https://localhost:8080/",
     "height": 227
    },
    "execution": {
     "iopub.execute_input": "2025-05-07T07:08:05.596306Z",
     "iopub.status.busy": "2025-05-07T07:08:05.596306Z",
     "iopub.status.idle": "2025-05-07T07:08:05.681690Z",
     "shell.execute_reply": "2025-05-07T07:08:05.681690Z"
    },
    "executionInfo": {
     "elapsed": 21,
     "status": "ok",
     "timestamp": 1707154585341,
     "user": {
      "displayName": "Narasimharao",
      "userId": "17097520752763909307"
     },
     "user_tz": -330
    },
    "id": "G7kVj3ZL-qZH",
    "outputId": "56bb3b61-e4e9-4a31-f679-3f40639bb505"
   },
   "outputs": [
    {
     "data": {
      "text/html": [
       "<style>#sk-container-id-1 {\n",
       "  /* Definition of color scheme common for light and dark mode */\n",
       "  --sklearn-color-text: #000;\n",
       "  --sklearn-color-text-muted: #666;\n",
       "  --sklearn-color-line: gray;\n",
       "  /* Definition of color scheme for unfitted estimators */\n",
       "  --sklearn-color-unfitted-level-0: #fff5e6;\n",
       "  --sklearn-color-unfitted-level-1: #f6e4d2;\n",
       "  --sklearn-color-unfitted-level-2: #ffe0b3;\n",
       "  --sklearn-color-unfitted-level-3: chocolate;\n",
       "  /* Definition of color scheme for fitted estimators */\n",
       "  --sklearn-color-fitted-level-0: #f0f8ff;\n",
       "  --sklearn-color-fitted-level-1: #d4ebff;\n",
       "  --sklearn-color-fitted-level-2: #b3dbfd;\n",
       "  --sklearn-color-fitted-level-3: cornflowerblue;\n",
       "\n",
       "  /* Specific color for light theme */\n",
       "  --sklearn-color-text-on-default-background: var(--sg-text-color, var(--theme-code-foreground, var(--jp-content-font-color1, black)));\n",
       "  --sklearn-color-background: var(--sg-background-color, var(--theme-background, var(--jp-layout-color0, white)));\n",
       "  --sklearn-color-border-box: var(--sg-text-color, var(--theme-code-foreground, var(--jp-content-font-color1, black)));\n",
       "  --sklearn-color-icon: #696969;\n",
       "\n",
       "  @media (prefers-color-scheme: dark) {\n",
       "    /* Redefinition of color scheme for dark theme */\n",
       "    --sklearn-color-text-on-default-background: var(--sg-text-color, var(--theme-code-foreground, var(--jp-content-font-color1, white)));\n",
       "    --sklearn-color-background: var(--sg-background-color, var(--theme-background, var(--jp-layout-color0, #111)));\n",
       "    --sklearn-color-border-box: var(--sg-text-color, var(--theme-code-foreground, var(--jp-content-font-color1, white)));\n",
       "    --sklearn-color-icon: #878787;\n",
       "  }\n",
       "}\n",
       "\n",
       "#sk-container-id-1 {\n",
       "  color: var(--sklearn-color-text);\n",
       "}\n",
       "\n",
       "#sk-container-id-1 pre {\n",
       "  padding: 0;\n",
       "}\n",
       "\n",
       "#sk-container-id-1 input.sk-hidden--visually {\n",
       "  border: 0;\n",
       "  clip: rect(1px 1px 1px 1px);\n",
       "  clip: rect(1px, 1px, 1px, 1px);\n",
       "  height: 1px;\n",
       "  margin: -1px;\n",
       "  overflow: hidden;\n",
       "  padding: 0;\n",
       "  position: absolute;\n",
       "  width: 1px;\n",
       "}\n",
       "\n",
       "#sk-container-id-1 div.sk-dashed-wrapped {\n",
       "  border: 1px dashed var(--sklearn-color-line);\n",
       "  margin: 0 0.4em 0.5em 0.4em;\n",
       "  box-sizing: border-box;\n",
       "  padding-bottom: 0.4em;\n",
       "  background-color: var(--sklearn-color-background);\n",
       "}\n",
       "\n",
       "#sk-container-id-1 div.sk-container {\n",
       "  /* jupyter's `normalize.less` sets `[hidden] { display: none; }`\n",
       "     but bootstrap.min.css set `[hidden] { display: none !important; }`\n",
       "     so we also need the `!important` here to be able to override the\n",
       "     default hidden behavior on the sphinx rendered scikit-learn.org.\n",
       "     See: https://github.com/scikit-learn/scikit-learn/issues/21755 */\n",
       "  display: inline-block !important;\n",
       "  position: relative;\n",
       "}\n",
       "\n",
       "#sk-container-id-1 div.sk-text-repr-fallback {\n",
       "  display: none;\n",
       "}\n",
       "\n",
       "div.sk-parallel-item,\n",
       "div.sk-serial,\n",
       "div.sk-item {\n",
       "  /* draw centered vertical line to link estimators */\n",
       "  background-image: linear-gradient(var(--sklearn-color-text-on-default-background), var(--sklearn-color-text-on-default-background));\n",
       "  background-size: 2px 100%;\n",
       "  background-repeat: no-repeat;\n",
       "  background-position: center center;\n",
       "}\n",
       "\n",
       "/* Parallel-specific style estimator block */\n",
       "\n",
       "#sk-container-id-1 div.sk-parallel-item::after {\n",
       "  content: \"\";\n",
       "  width: 100%;\n",
       "  border-bottom: 2px solid var(--sklearn-color-text-on-default-background);\n",
       "  flex-grow: 1;\n",
       "}\n",
       "\n",
       "#sk-container-id-1 div.sk-parallel {\n",
       "  display: flex;\n",
       "  align-items: stretch;\n",
       "  justify-content: center;\n",
       "  background-color: var(--sklearn-color-background);\n",
       "  position: relative;\n",
       "}\n",
       "\n",
       "#sk-container-id-1 div.sk-parallel-item {\n",
       "  display: flex;\n",
       "  flex-direction: column;\n",
       "}\n",
       "\n",
       "#sk-container-id-1 div.sk-parallel-item:first-child::after {\n",
       "  align-self: flex-end;\n",
       "  width: 50%;\n",
       "}\n",
       "\n",
       "#sk-container-id-1 div.sk-parallel-item:last-child::after {\n",
       "  align-self: flex-start;\n",
       "  width: 50%;\n",
       "}\n",
       "\n",
       "#sk-container-id-1 div.sk-parallel-item:only-child::after {\n",
       "  width: 0;\n",
       "}\n",
       "\n",
       "/* Serial-specific style estimator block */\n",
       "\n",
       "#sk-container-id-1 div.sk-serial {\n",
       "  display: flex;\n",
       "  flex-direction: column;\n",
       "  align-items: center;\n",
       "  background-color: var(--sklearn-color-background);\n",
       "  padding-right: 1em;\n",
       "  padding-left: 1em;\n",
       "}\n",
       "\n",
       "\n",
       "/* Toggleable style: style used for estimator/Pipeline/ColumnTransformer box that is\n",
       "clickable and can be expanded/collapsed.\n",
       "- Pipeline and ColumnTransformer use this feature and define the default style\n",
       "- Estimators will overwrite some part of the style using the `sk-estimator` class\n",
       "*/\n",
       "\n",
       "/* Pipeline and ColumnTransformer style (default) */\n",
       "\n",
       "#sk-container-id-1 div.sk-toggleable {\n",
       "  /* Default theme specific background. It is overwritten whether we have a\n",
       "  specific estimator or a Pipeline/ColumnTransformer */\n",
       "  background-color: var(--sklearn-color-background);\n",
       "}\n",
       "\n",
       "/* Toggleable label */\n",
       "#sk-container-id-1 label.sk-toggleable__label {\n",
       "  cursor: pointer;\n",
       "  display: flex;\n",
       "  width: 100%;\n",
       "  margin-bottom: 0;\n",
       "  padding: 0.5em;\n",
       "  box-sizing: border-box;\n",
       "  text-align: center;\n",
       "  align-items: start;\n",
       "  justify-content: space-between;\n",
       "  gap: 0.5em;\n",
       "}\n",
       "\n",
       "#sk-container-id-1 label.sk-toggleable__label .caption {\n",
       "  font-size: 0.6rem;\n",
       "  font-weight: lighter;\n",
       "  color: var(--sklearn-color-text-muted);\n",
       "}\n",
       "\n",
       "#sk-container-id-1 label.sk-toggleable__label-arrow:before {\n",
       "  /* Arrow on the left of the label */\n",
       "  content: \"▸\";\n",
       "  float: left;\n",
       "  margin-right: 0.25em;\n",
       "  color: var(--sklearn-color-icon);\n",
       "}\n",
       "\n",
       "#sk-container-id-1 label.sk-toggleable__label-arrow:hover:before {\n",
       "  color: var(--sklearn-color-text);\n",
       "}\n",
       "\n",
       "/* Toggleable content - dropdown */\n",
       "\n",
       "#sk-container-id-1 div.sk-toggleable__content {\n",
       "  max-height: 0;\n",
       "  max-width: 0;\n",
       "  overflow: hidden;\n",
       "  text-align: left;\n",
       "  /* unfitted */\n",
       "  background-color: var(--sklearn-color-unfitted-level-0);\n",
       "}\n",
       "\n",
       "#sk-container-id-1 div.sk-toggleable__content.fitted {\n",
       "  /* fitted */\n",
       "  background-color: var(--sklearn-color-fitted-level-0);\n",
       "}\n",
       "\n",
       "#sk-container-id-1 div.sk-toggleable__content pre {\n",
       "  margin: 0.2em;\n",
       "  border-radius: 0.25em;\n",
       "  color: var(--sklearn-color-text);\n",
       "  /* unfitted */\n",
       "  background-color: var(--sklearn-color-unfitted-level-0);\n",
       "}\n",
       "\n",
       "#sk-container-id-1 div.sk-toggleable__content.fitted pre {\n",
       "  /* unfitted */\n",
       "  background-color: var(--sklearn-color-fitted-level-0);\n",
       "}\n",
       "\n",
       "#sk-container-id-1 input.sk-toggleable__control:checked~div.sk-toggleable__content {\n",
       "  /* Expand drop-down */\n",
       "  max-height: 200px;\n",
       "  max-width: 100%;\n",
       "  overflow: auto;\n",
       "}\n",
       "\n",
       "#sk-container-id-1 input.sk-toggleable__control:checked~label.sk-toggleable__label-arrow:before {\n",
       "  content: \"▾\";\n",
       "}\n",
       "\n",
       "/* Pipeline/ColumnTransformer-specific style */\n",
       "\n",
       "#sk-container-id-1 div.sk-label input.sk-toggleable__control:checked~label.sk-toggleable__label {\n",
       "  color: var(--sklearn-color-text);\n",
       "  background-color: var(--sklearn-color-unfitted-level-2);\n",
       "}\n",
       "\n",
       "#sk-container-id-1 div.sk-label.fitted input.sk-toggleable__control:checked~label.sk-toggleable__label {\n",
       "  background-color: var(--sklearn-color-fitted-level-2);\n",
       "}\n",
       "\n",
       "/* Estimator-specific style */\n",
       "\n",
       "/* Colorize estimator box */\n",
       "#sk-container-id-1 div.sk-estimator input.sk-toggleable__control:checked~label.sk-toggleable__label {\n",
       "  /* unfitted */\n",
       "  background-color: var(--sklearn-color-unfitted-level-2);\n",
       "}\n",
       "\n",
       "#sk-container-id-1 div.sk-estimator.fitted input.sk-toggleable__control:checked~label.sk-toggleable__label {\n",
       "  /* fitted */\n",
       "  background-color: var(--sklearn-color-fitted-level-2);\n",
       "}\n",
       "\n",
       "#sk-container-id-1 div.sk-label label.sk-toggleable__label,\n",
       "#sk-container-id-1 div.sk-label label {\n",
       "  /* The background is the default theme color */\n",
       "  color: var(--sklearn-color-text-on-default-background);\n",
       "}\n",
       "\n",
       "/* On hover, darken the color of the background */\n",
       "#sk-container-id-1 div.sk-label:hover label.sk-toggleable__label {\n",
       "  color: var(--sklearn-color-text);\n",
       "  background-color: var(--sklearn-color-unfitted-level-2);\n",
       "}\n",
       "\n",
       "/* Label box, darken color on hover, fitted */\n",
       "#sk-container-id-1 div.sk-label.fitted:hover label.sk-toggleable__label.fitted {\n",
       "  color: var(--sklearn-color-text);\n",
       "  background-color: var(--sklearn-color-fitted-level-2);\n",
       "}\n",
       "\n",
       "/* Estimator label */\n",
       "\n",
       "#sk-container-id-1 div.sk-label label {\n",
       "  font-family: monospace;\n",
       "  font-weight: bold;\n",
       "  display: inline-block;\n",
       "  line-height: 1.2em;\n",
       "}\n",
       "\n",
       "#sk-container-id-1 div.sk-label-container {\n",
       "  text-align: center;\n",
       "}\n",
       "\n",
       "/* Estimator-specific */\n",
       "#sk-container-id-1 div.sk-estimator {\n",
       "  font-family: monospace;\n",
       "  border: 1px dotted var(--sklearn-color-border-box);\n",
       "  border-radius: 0.25em;\n",
       "  box-sizing: border-box;\n",
       "  margin-bottom: 0.5em;\n",
       "  /* unfitted */\n",
       "  background-color: var(--sklearn-color-unfitted-level-0);\n",
       "}\n",
       "\n",
       "#sk-container-id-1 div.sk-estimator.fitted {\n",
       "  /* fitted */\n",
       "  background-color: var(--sklearn-color-fitted-level-0);\n",
       "}\n",
       "\n",
       "/* on hover */\n",
       "#sk-container-id-1 div.sk-estimator:hover {\n",
       "  /* unfitted */\n",
       "  background-color: var(--sklearn-color-unfitted-level-2);\n",
       "}\n",
       "\n",
       "#sk-container-id-1 div.sk-estimator.fitted:hover {\n",
       "  /* fitted */\n",
       "  background-color: var(--sklearn-color-fitted-level-2);\n",
       "}\n",
       "\n",
       "/* Specification for estimator info (e.g. \"i\" and \"?\") */\n",
       "\n",
       "/* Common style for \"i\" and \"?\" */\n",
       "\n",
       ".sk-estimator-doc-link,\n",
       "a:link.sk-estimator-doc-link,\n",
       "a:visited.sk-estimator-doc-link {\n",
       "  float: right;\n",
       "  font-size: smaller;\n",
       "  line-height: 1em;\n",
       "  font-family: monospace;\n",
       "  background-color: var(--sklearn-color-background);\n",
       "  border-radius: 1em;\n",
       "  height: 1em;\n",
       "  width: 1em;\n",
       "  text-decoration: none !important;\n",
       "  margin-left: 0.5em;\n",
       "  text-align: center;\n",
       "  /* unfitted */\n",
       "  border: var(--sklearn-color-unfitted-level-1) 1pt solid;\n",
       "  color: var(--sklearn-color-unfitted-level-1);\n",
       "}\n",
       "\n",
       ".sk-estimator-doc-link.fitted,\n",
       "a:link.sk-estimator-doc-link.fitted,\n",
       "a:visited.sk-estimator-doc-link.fitted {\n",
       "  /* fitted */\n",
       "  border: var(--sklearn-color-fitted-level-1) 1pt solid;\n",
       "  color: var(--sklearn-color-fitted-level-1);\n",
       "}\n",
       "\n",
       "/* On hover */\n",
       "div.sk-estimator:hover .sk-estimator-doc-link:hover,\n",
       ".sk-estimator-doc-link:hover,\n",
       "div.sk-label-container:hover .sk-estimator-doc-link:hover,\n",
       ".sk-estimator-doc-link:hover {\n",
       "  /* unfitted */\n",
       "  background-color: var(--sklearn-color-unfitted-level-3);\n",
       "  color: var(--sklearn-color-background);\n",
       "  text-decoration: none;\n",
       "}\n",
       "\n",
       "div.sk-estimator.fitted:hover .sk-estimator-doc-link.fitted:hover,\n",
       ".sk-estimator-doc-link.fitted:hover,\n",
       "div.sk-label-container:hover .sk-estimator-doc-link.fitted:hover,\n",
       ".sk-estimator-doc-link.fitted:hover {\n",
       "  /* fitted */\n",
       "  background-color: var(--sklearn-color-fitted-level-3);\n",
       "  color: var(--sklearn-color-background);\n",
       "  text-decoration: none;\n",
       "}\n",
       "\n",
       "/* Span, style for the box shown on hovering the info icon */\n",
       ".sk-estimator-doc-link span {\n",
       "  display: none;\n",
       "  z-index: 9999;\n",
       "  position: relative;\n",
       "  font-weight: normal;\n",
       "  right: .2ex;\n",
       "  padding: .5ex;\n",
       "  margin: .5ex;\n",
       "  width: min-content;\n",
       "  min-width: 20ex;\n",
       "  max-width: 50ex;\n",
       "  color: var(--sklearn-color-text);\n",
       "  box-shadow: 2pt 2pt 4pt #999;\n",
       "  /* unfitted */\n",
       "  background: var(--sklearn-color-unfitted-level-0);\n",
       "  border: .5pt solid var(--sklearn-color-unfitted-level-3);\n",
       "}\n",
       "\n",
       ".sk-estimator-doc-link.fitted span {\n",
       "  /* fitted */\n",
       "  background: var(--sklearn-color-fitted-level-0);\n",
       "  border: var(--sklearn-color-fitted-level-3);\n",
       "}\n",
       "\n",
       ".sk-estimator-doc-link:hover span {\n",
       "  display: block;\n",
       "}\n",
       "\n",
       "/* \"?\"-specific style due to the `<a>` HTML tag */\n",
       "\n",
       "#sk-container-id-1 a.estimator_doc_link {\n",
       "  float: right;\n",
       "  font-size: 1rem;\n",
       "  line-height: 1em;\n",
       "  font-family: monospace;\n",
       "  background-color: var(--sklearn-color-background);\n",
       "  border-radius: 1rem;\n",
       "  height: 1rem;\n",
       "  width: 1rem;\n",
       "  text-decoration: none;\n",
       "  /* unfitted */\n",
       "  color: var(--sklearn-color-unfitted-level-1);\n",
       "  border: var(--sklearn-color-unfitted-level-1) 1pt solid;\n",
       "}\n",
       "\n",
       "#sk-container-id-1 a.estimator_doc_link.fitted {\n",
       "  /* fitted */\n",
       "  border: var(--sklearn-color-fitted-level-1) 1pt solid;\n",
       "  color: var(--sklearn-color-fitted-level-1);\n",
       "}\n",
       "\n",
       "/* On hover */\n",
       "#sk-container-id-1 a.estimator_doc_link:hover {\n",
       "  /* unfitted */\n",
       "  background-color: var(--sklearn-color-unfitted-level-3);\n",
       "  color: var(--sklearn-color-background);\n",
       "  text-decoration: none;\n",
       "}\n",
       "\n",
       "#sk-container-id-1 a.estimator_doc_link.fitted:hover {\n",
       "  /* fitted */\n",
       "  background-color: var(--sklearn-color-fitted-level-3);\n",
       "}\n",
       "</style><div id=\"sk-container-id-1\" class=\"sk-top-container\"><div class=\"sk-text-repr-fallback\"><pre>Pipeline(steps=[(&#x27;Pre-Processing&#x27;,\n",
       "                 ColumnTransformer(remainder=&#x27;passthrough&#x27;,\n",
       "                                   transformers=[(&#x27;Ordinal_Pre-Processing&#x27;,\n",
       "                                                  Pipeline(steps=[(&#x27;Null_values_imputation_2&#x27;,\n",
       "                                                                   SimpleImputer(strategy=&#x27;most_frequent&#x27;)),\n",
       "                                                                  (&#x27;Ordinal_Encoding&#x27;,\n",
       "                                                                   OrdinalEncoder(categories=[[&#x27;NORMAL&#x27;,\n",
       "                                                                                               &#x27;LOW&#x27;,\n",
       "                                                                                               &#x27;HIGH&#x27;],\n",
       "                                                                                              [&#x27;NORMAL&#x27;,\n",
       "                                                                                               &#x27;HIGH&#x27;]]))]),\n",
       "                                                  Index([&#x27;BP&#x27;, &#x27;Cholesterol&#x27;], dtype=&#x27;object&#x27;)),\n",
       "                                                 (&#x27;Nominal_P...\n",
       "                                                  Pipeline(steps=[(&#x27;Null_values_imputation_2&#x27;,\n",
       "                                                                   SimpleImputer(strategy=&#x27;most_frequent&#x27;)),\n",
       "                                                                  (&#x27;OH_Encoding&#x27;,\n",
       "                                                                   OneHotEncoder(drop=&#x27;first&#x27;,\n",
       "                                                                                 sparse_output=False))]),\n",
       "                                                  Index([&#x27;Sex&#x27;], dtype=&#x27;object&#x27;)),\n",
       "                                                 (&#x27;numerical_Pre-Processing&#x27;,\n",
       "                                                  Pipeline(steps=[(&#x27;Null_values_imputation_1&#x27;,\n",
       "                                                                   SimpleImputer()),\n",
       "                                                                  (&#x27;StandardScalar&#x27;,\n",
       "                                                                   StandardScaler()),\n",
       "                                                                  (&#x27;Power_Transform&#x27;,\n",
       "                                                                   PowerTransformer())]),\n",
       "                                                  Index([&#x27;Age&#x27;, &#x27;Na_to_K&#x27;], dtype=&#x27;object&#x27;))]))])</pre><b>In a Jupyter environment, please rerun this cell to show the HTML representation or trust the notebook. <br />On GitHub, the HTML representation is unable to render, please try loading this page with nbviewer.org.</b></div><div class=\"sk-container\" hidden><div class=\"sk-item sk-dashed-wrapped\"><div class=\"sk-label-container\"><div class=\"sk-label  sk-toggleable\"><input class=\"sk-toggleable__control sk-hidden--visually\" id=\"sk-estimator-id-1\" type=\"checkbox\" ><label for=\"sk-estimator-id-1\" class=\"sk-toggleable__label  sk-toggleable__label-arrow\"><div><div>Pipeline</div></div><div><a class=\"sk-estimator-doc-link \" rel=\"noreferrer\" target=\"_blank\" href=\"https://scikit-learn.org/1.6/modules/generated/sklearn.pipeline.Pipeline.html\">?<span>Documentation for Pipeline</span></a><span class=\"sk-estimator-doc-link \">i<span>Not fitted</span></span></div></label><div class=\"sk-toggleable__content \"><pre>Pipeline(steps=[(&#x27;Pre-Processing&#x27;,\n",
       "                 ColumnTransformer(remainder=&#x27;passthrough&#x27;,\n",
       "                                   transformers=[(&#x27;Ordinal_Pre-Processing&#x27;,\n",
       "                                                  Pipeline(steps=[(&#x27;Null_values_imputation_2&#x27;,\n",
       "                                                                   SimpleImputer(strategy=&#x27;most_frequent&#x27;)),\n",
       "                                                                  (&#x27;Ordinal_Encoding&#x27;,\n",
       "                                                                   OrdinalEncoder(categories=[[&#x27;NORMAL&#x27;,\n",
       "                                                                                               &#x27;LOW&#x27;,\n",
       "                                                                                               &#x27;HIGH&#x27;],\n",
       "                                                                                              [&#x27;NORMAL&#x27;,\n",
       "                                                                                               &#x27;HIGH&#x27;]]))]),\n",
       "                                                  Index([&#x27;BP&#x27;, &#x27;Cholesterol&#x27;], dtype=&#x27;object&#x27;)),\n",
       "                                                 (&#x27;Nominal_P...\n",
       "                                                  Pipeline(steps=[(&#x27;Null_values_imputation_2&#x27;,\n",
       "                                                                   SimpleImputer(strategy=&#x27;most_frequent&#x27;)),\n",
       "                                                                  (&#x27;OH_Encoding&#x27;,\n",
       "                                                                   OneHotEncoder(drop=&#x27;first&#x27;,\n",
       "                                                                                 sparse_output=False))]),\n",
       "                                                  Index([&#x27;Sex&#x27;], dtype=&#x27;object&#x27;)),\n",
       "                                                 (&#x27;numerical_Pre-Processing&#x27;,\n",
       "                                                  Pipeline(steps=[(&#x27;Null_values_imputation_1&#x27;,\n",
       "                                                                   SimpleImputer()),\n",
       "                                                                  (&#x27;StandardScalar&#x27;,\n",
       "                                                                   StandardScaler()),\n",
       "                                                                  (&#x27;Power_Transform&#x27;,\n",
       "                                                                   PowerTransformer())]),\n",
       "                                                  Index([&#x27;Age&#x27;, &#x27;Na_to_K&#x27;], dtype=&#x27;object&#x27;))]))])</pre></div> </div></div><div class=\"sk-serial\"><div class=\"sk-item sk-dashed-wrapped\"><div class=\"sk-label-container\"><div class=\"sk-label  sk-toggleable\"><input class=\"sk-toggleable__control sk-hidden--visually\" id=\"sk-estimator-id-2\" type=\"checkbox\" ><label for=\"sk-estimator-id-2\" class=\"sk-toggleable__label  sk-toggleable__label-arrow\"><div><div>Pre-Processing: ColumnTransformer</div></div><div><a class=\"sk-estimator-doc-link \" rel=\"noreferrer\" target=\"_blank\" href=\"https://scikit-learn.org/1.6/modules/generated/sklearn.compose.ColumnTransformer.html\">?<span>Documentation for Pre-Processing: ColumnTransformer</span></a></div></label><div class=\"sk-toggleable__content \"><pre>ColumnTransformer(remainder=&#x27;passthrough&#x27;,\n",
       "                  transformers=[(&#x27;Ordinal_Pre-Processing&#x27;,\n",
       "                                 Pipeline(steps=[(&#x27;Null_values_imputation_2&#x27;,\n",
       "                                                  SimpleImputer(strategy=&#x27;most_frequent&#x27;)),\n",
       "                                                 (&#x27;Ordinal_Encoding&#x27;,\n",
       "                                                  OrdinalEncoder(categories=[[&#x27;NORMAL&#x27;,\n",
       "                                                                              &#x27;LOW&#x27;,\n",
       "                                                                              &#x27;HIGH&#x27;],\n",
       "                                                                             [&#x27;NORMAL&#x27;,\n",
       "                                                                              &#x27;HIGH&#x27;]]))]),\n",
       "                                 Index([&#x27;BP&#x27;, &#x27;Cholesterol&#x27;], dtype=&#x27;object&#x27;)),\n",
       "                                (&#x27;Nominal_Pre-Processing&#x27;,\n",
       "                                 Pipeline(steps=[(&#x27;N..._2&#x27;,\n",
       "                                                  SimpleImputer(strategy=&#x27;most_frequent&#x27;)),\n",
       "                                                 (&#x27;OH_Encoding&#x27;,\n",
       "                                                  OneHotEncoder(drop=&#x27;first&#x27;,\n",
       "                                                                sparse_output=False))]),\n",
       "                                 Index([&#x27;Sex&#x27;], dtype=&#x27;object&#x27;)),\n",
       "                                (&#x27;numerical_Pre-Processing&#x27;,\n",
       "                                 Pipeline(steps=[(&#x27;Null_values_imputation_1&#x27;,\n",
       "                                                  SimpleImputer()),\n",
       "                                                 (&#x27;StandardScalar&#x27;,\n",
       "                                                  StandardScaler()),\n",
       "                                                 (&#x27;Power_Transform&#x27;,\n",
       "                                                  PowerTransformer())]),\n",
       "                                 Index([&#x27;Age&#x27;, &#x27;Na_to_K&#x27;], dtype=&#x27;object&#x27;))])</pre></div> </div></div><div class=\"sk-parallel\"><div class=\"sk-parallel-item\"><div class=\"sk-item\"><div class=\"sk-label-container\"><div class=\"sk-label  sk-toggleable\"><input class=\"sk-toggleable__control sk-hidden--visually\" id=\"sk-estimator-id-3\" type=\"checkbox\" ><label for=\"sk-estimator-id-3\" class=\"sk-toggleable__label  sk-toggleable__label-arrow\"><div><div>Ordinal_Pre-Processing</div></div></label><div class=\"sk-toggleable__content \"><pre>Index([&#x27;BP&#x27;, &#x27;Cholesterol&#x27;], dtype=&#x27;object&#x27;)</pre></div> </div></div><div class=\"sk-serial\"><div class=\"sk-item\"><div class=\"sk-serial\"><div class=\"sk-item\"><div class=\"sk-estimator  sk-toggleable\"><input class=\"sk-toggleable__control sk-hidden--visually\" id=\"sk-estimator-id-4\" type=\"checkbox\" ><label for=\"sk-estimator-id-4\" class=\"sk-toggleable__label  sk-toggleable__label-arrow\"><div><div>SimpleImputer</div></div><div><a class=\"sk-estimator-doc-link \" rel=\"noreferrer\" target=\"_blank\" href=\"https://scikit-learn.org/1.6/modules/generated/sklearn.impute.SimpleImputer.html\">?<span>Documentation for SimpleImputer</span></a></div></label><div class=\"sk-toggleable__content \"><pre>SimpleImputer(strategy=&#x27;most_frequent&#x27;)</pre></div> </div></div><div class=\"sk-item\"><div class=\"sk-estimator  sk-toggleable\"><input class=\"sk-toggleable__control sk-hidden--visually\" id=\"sk-estimator-id-5\" type=\"checkbox\" ><label for=\"sk-estimator-id-5\" class=\"sk-toggleable__label  sk-toggleable__label-arrow\"><div><div>OrdinalEncoder</div></div><div><a class=\"sk-estimator-doc-link \" rel=\"noreferrer\" target=\"_blank\" href=\"https://scikit-learn.org/1.6/modules/generated/sklearn.preprocessing.OrdinalEncoder.html\">?<span>Documentation for OrdinalEncoder</span></a></div></label><div class=\"sk-toggleable__content \"><pre>OrdinalEncoder(categories=[[&#x27;NORMAL&#x27;, &#x27;LOW&#x27;, &#x27;HIGH&#x27;], [&#x27;NORMAL&#x27;, &#x27;HIGH&#x27;]])</pre></div> </div></div></div></div></div></div></div><div class=\"sk-parallel-item\"><div class=\"sk-item\"><div class=\"sk-label-container\"><div class=\"sk-label  sk-toggleable\"><input class=\"sk-toggleable__control sk-hidden--visually\" id=\"sk-estimator-id-6\" type=\"checkbox\" ><label for=\"sk-estimator-id-6\" class=\"sk-toggleable__label  sk-toggleable__label-arrow\"><div><div>Nominal_Pre-Processing</div></div></label><div class=\"sk-toggleable__content \"><pre>Index([&#x27;Sex&#x27;], dtype=&#x27;object&#x27;)</pre></div> </div></div><div class=\"sk-serial\"><div class=\"sk-item\"><div class=\"sk-serial\"><div class=\"sk-item\"><div class=\"sk-estimator  sk-toggleable\"><input class=\"sk-toggleable__control sk-hidden--visually\" id=\"sk-estimator-id-7\" type=\"checkbox\" ><label for=\"sk-estimator-id-7\" class=\"sk-toggleable__label  sk-toggleable__label-arrow\"><div><div>SimpleImputer</div></div><div><a class=\"sk-estimator-doc-link \" rel=\"noreferrer\" target=\"_blank\" href=\"https://scikit-learn.org/1.6/modules/generated/sklearn.impute.SimpleImputer.html\">?<span>Documentation for SimpleImputer</span></a></div></label><div class=\"sk-toggleable__content \"><pre>SimpleImputer(strategy=&#x27;most_frequent&#x27;)</pre></div> </div></div><div class=\"sk-item\"><div class=\"sk-estimator  sk-toggleable\"><input class=\"sk-toggleable__control sk-hidden--visually\" id=\"sk-estimator-id-8\" type=\"checkbox\" ><label for=\"sk-estimator-id-8\" class=\"sk-toggleable__label  sk-toggleable__label-arrow\"><div><div>OneHotEncoder</div></div><div><a class=\"sk-estimator-doc-link \" rel=\"noreferrer\" target=\"_blank\" href=\"https://scikit-learn.org/1.6/modules/generated/sklearn.preprocessing.OneHotEncoder.html\">?<span>Documentation for OneHotEncoder</span></a></div></label><div class=\"sk-toggleable__content \"><pre>OneHotEncoder(drop=&#x27;first&#x27;, sparse_output=False)</pre></div> </div></div></div></div></div></div></div><div class=\"sk-parallel-item\"><div class=\"sk-item\"><div class=\"sk-label-container\"><div class=\"sk-label  sk-toggleable\"><input class=\"sk-toggleable__control sk-hidden--visually\" id=\"sk-estimator-id-9\" type=\"checkbox\" ><label for=\"sk-estimator-id-9\" class=\"sk-toggleable__label  sk-toggleable__label-arrow\"><div><div>numerical_Pre-Processing</div></div></label><div class=\"sk-toggleable__content \"><pre>Index([&#x27;Age&#x27;, &#x27;Na_to_K&#x27;], dtype=&#x27;object&#x27;)</pre></div> </div></div><div class=\"sk-serial\"><div class=\"sk-item\"><div class=\"sk-serial\"><div class=\"sk-item\"><div class=\"sk-estimator  sk-toggleable\"><input class=\"sk-toggleable__control sk-hidden--visually\" id=\"sk-estimator-id-10\" type=\"checkbox\" ><label for=\"sk-estimator-id-10\" class=\"sk-toggleable__label  sk-toggleable__label-arrow\"><div><div>SimpleImputer</div></div><div><a class=\"sk-estimator-doc-link \" rel=\"noreferrer\" target=\"_blank\" href=\"https://scikit-learn.org/1.6/modules/generated/sklearn.impute.SimpleImputer.html\">?<span>Documentation for SimpleImputer</span></a></div></label><div class=\"sk-toggleable__content \"><pre>SimpleImputer()</pre></div> </div></div><div class=\"sk-item\"><div class=\"sk-estimator  sk-toggleable\"><input class=\"sk-toggleable__control sk-hidden--visually\" id=\"sk-estimator-id-11\" type=\"checkbox\" ><label for=\"sk-estimator-id-11\" class=\"sk-toggleable__label  sk-toggleable__label-arrow\"><div><div>StandardScaler</div></div><div><a class=\"sk-estimator-doc-link \" rel=\"noreferrer\" target=\"_blank\" href=\"https://scikit-learn.org/1.6/modules/generated/sklearn.preprocessing.StandardScaler.html\">?<span>Documentation for StandardScaler</span></a></div></label><div class=\"sk-toggleable__content \"><pre>StandardScaler()</pre></div> </div></div><div class=\"sk-item\"><div class=\"sk-estimator  sk-toggleable\"><input class=\"sk-toggleable__control sk-hidden--visually\" id=\"sk-estimator-id-12\" type=\"checkbox\" ><label for=\"sk-estimator-id-12\" class=\"sk-toggleable__label  sk-toggleable__label-arrow\"><div><div>PowerTransformer</div></div><div><a class=\"sk-estimator-doc-link \" rel=\"noreferrer\" target=\"_blank\" href=\"https://scikit-learn.org/1.6/modules/generated/sklearn.preprocessing.PowerTransformer.html\">?<span>Documentation for PowerTransformer</span></a></div></label><div class=\"sk-toggleable__content \"><pre>PowerTransformer()</pre></div> </div></div></div></div></div></div></div><div class=\"sk-parallel-item\"><div class=\"sk-item\"><div class=\"sk-label-container\"><div class=\"sk-label  sk-toggleable\"><input class=\"sk-toggleable__control sk-hidden--visually\" id=\"sk-estimator-id-13\" type=\"checkbox\" ><label for=\"sk-estimator-id-13\" class=\"sk-toggleable__label  sk-toggleable__label-arrow\"><div><div>remainder</div></div></label><div class=\"sk-toggleable__content \"><pre></pre></div> </div></div><div class=\"sk-serial\"><div class=\"sk-item\"><div class=\"sk-estimator  sk-toggleable\"><input class=\"sk-toggleable__control sk-hidden--visually\" id=\"sk-estimator-id-14\" type=\"checkbox\" ><label for=\"sk-estimator-id-14\" class=\"sk-toggleable__label  sk-toggleable__label-arrow\"><div><div>passthrough</div></div></label><div class=\"sk-toggleable__content \"><pre>passthrough</pre></div> </div></div></div></div></div></div></div></div></div></div></div>"
      ],
      "text/plain": [
       "Pipeline(steps=[('Pre-Processing',\n",
       "                 ColumnTransformer(remainder='passthrough',\n",
       "                                   transformers=[('Ordinal_Pre-Processing',\n",
       "                                                  Pipeline(steps=[('Null_values_imputation_2',\n",
       "                                                                   SimpleImputer(strategy='most_frequent')),\n",
       "                                                                  ('Ordinal_Encoding',\n",
       "                                                                   OrdinalEncoder(categories=[['NORMAL',\n",
       "                                                                                               'LOW',\n",
       "                                                                                               'HIGH'],\n",
       "                                                                                              ['NORMAL',\n",
       "                                                                                               'HIGH']]))]),\n",
       "                                                  Index(['BP', 'Cholesterol'], dtype='object')),\n",
       "                                                 ('Nominal_P...\n",
       "                                                  Pipeline(steps=[('Null_values_imputation_2',\n",
       "                                                                   SimpleImputer(strategy='most_frequent')),\n",
       "                                                                  ('OH_Encoding',\n",
       "                                                                   OneHotEncoder(drop='first',\n",
       "                                                                                 sparse_output=False))]),\n",
       "                                                  Index(['Sex'], dtype='object')),\n",
       "                                                 ('numerical_Pre-Processing',\n",
       "                                                  Pipeline(steps=[('Null_values_imputation_1',\n",
       "                                                                   SimpleImputer()),\n",
       "                                                                  ('StandardScalar',\n",
       "                                                                   StandardScaler()),\n",
       "                                                                  ('Power_Transform',\n",
       "                                                                   PowerTransformer())]),\n",
       "                                                  Index(['Age', 'Na_to_K'], dtype='object'))]))])"
      ]
     },
     "execution_count": 32,
     "metadata": {},
     "output_type": "execute_result"
    }
   ],
   "source": [
    "final_pipe"
   ]
  },
  {
   "cell_type": "code",
   "execution_count": 33,
   "metadata": {
    "colab": {
     "base_uri": "https://localhost:8080/"
    },
    "execution": {
     "iopub.execute_input": "2025-05-07T07:08:05.685169Z",
     "iopub.status.busy": "2025-05-07T07:08:05.684151Z",
     "iopub.status.idle": "2025-05-07T07:08:05.708649Z",
     "shell.execute_reply": "2025-05-07T07:08:05.708649Z"
    },
    "executionInfo": {
     "elapsed": 21,
     "status": "ok",
     "timestamp": 1707154585342,
     "user": {
      "displayName": "Narasimharao",
      "userId": "17097520752763909307"
     },
     "user_tz": -330
    },
    "id": "tcwK2R4yzuqn",
    "outputId": "556a9d86-d570-41ce-fc6b-0f2ec8883b86"
   },
   "outputs": [
    {
     "data": {
      "text/plain": [
       "array([[ 1.        ,  0.        ,  0.        , -0.37923572,  1.07168376],\n",
       "       [ 2.        ,  0.        ,  1.        , -1.79915873,  0.48402897],\n",
       "       [ 0.        ,  0.        ,  0.        ,  1.27306582, -1.46104412],\n",
       "       [ 0.        ,  1.        ,  0.        , -0.55869683,  0.42156266],\n",
       "       [ 1.        ,  1.        ,  1.        , -1.32933462, -1.70340343],\n",
       "       [ 0.        ,  0.        ,  0.        , -1.62330756, -1.27629092],\n",
       "       [ 0.        ,  1.        ,  0.        , -1.03412161,  0.78033228],\n",
       "       [ 1.        ,  0.        ,  1.        ,  0.22520952, -0.11219148],\n",
       "       [ 0.        ,  0.        ,  0.        , -0.25917092,  1.08962984],\n",
       "       [ 2.        ,  0.        ,  0.        , -0.55869683,  0.22955096],\n",
       "       [ 2.        ,  1.        ,  0.        , -1.5646046 , -0.1692461 ],\n",
       "       [ 2.        ,  0.        ,  1.        , -0.79693124, -1.08448812],\n",
       "       [ 1.        ,  1.        ,  1.        , -1.38822316, -1.44817875],\n",
       "       [ 0.        ,  1.        ,  0.        ,  1.33527706,  0.29361515],\n",
       "       [ 2.        ,  0.        ,  0.        , -1.03412161,  0.68378208],\n",
       "       [ 2.        ,  1.        ,  1.        ,  0.83918203, -0.04659771],\n",
       "       [ 2.        ,  1.        ,  1.        ,  0.77744692,  0.70466173],\n",
       "       [ 1.        ,  0.        ,  1.        ,  1.02477442,  1.41536026],\n",
       "       [ 2.        ,  0.        ,  1.        ,  0.90098298, -1.31279512],\n",
       "       [ 2.        ,  1.        ,  1.        , -1.32933462, -1.48922743],\n",
       "       [ 2.        ,  0.        ,  1.        ,  0.22520952, -1.29040634],\n",
       "       [ 2.        ,  0.        ,  0.        , -1.15236669,  0.72387307],\n",
       "       [ 1.        ,  0.        ,  0.        , -0.25917092,  0.67566322],\n",
       "       [ 1.        ,  0.        ,  1.        ,  1.45985582, -0.57638373],\n",
       "       [ 1.        ,  1.        ,  1.        ,  0.10345906, -0.21427632],\n",
       "       [ 2.        ,  1.        ,  1.        , -0.37923572, -1.02575589],\n",
       "       [ 2.        ,  0.        ,  1.        , -0.8563211 , -0.47996186],\n",
       "       [ 0.        ,  0.        ,  1.        , -1.6819669 , -0.7264152 ],\n",
       "       [ 1.        ,  1.        ,  1.        ,  0.65418304,  0.14985155],\n",
       "       [ 0.        ,  0.        ,  1.        ,  0.90098298, -0.9136024 ],\n",
       "       [ 1.        ,  0.        ,  0.        , -0.19899891,  1.55079787],\n",
       "       [ 2.        ,  0.        ,  0.        , -0.67795399,  0.72812976],\n",
       "       [ 2.        ,  1.        ,  0.        , -1.62330756,  1.97386145],\n",
       "       [ 0.        ,  0.        ,  1.        ,  0.28623245,  0.27775809],\n",
       "       [ 0.        ,  1.        ,  1.        ,  1.02477442,  0.39890127],\n",
       "       [ 2.        ,  1.        ,  0.        , -0.0178627 , -0.26416814],\n",
       "       [ 0.        ,  0.        ,  0.        , -0.37923572, -1.01378919],\n",
       "       [ 0.        ,  0.        ,  0.        ,  0.71577982,  1.32480311],\n",
       "       [ 2.        ,  1.        ,  0.        , -0.61836173, -0.25574759],\n",
       "       [ 1.        ,  1.        ,  1.        , -0.25917092, -0.67630368],\n",
       "       [ 1.        ,  0.        ,  0.        , -0.31924835, -0.60143493],\n",
       "       [ 0.        ,  1.        ,  1.        , -1.79915873, -1.18308909],\n",
       "       [ 0.        ,  1.        ,  0.        , -1.38822316, -1.31677379],\n",
       "       [ 1.        ,  0.        ,  1.        , -0.37923572, -0.04602292],\n",
       "       [ 1.        ,  0.        ,  1.        , -1.15236669,  0.90692136],\n",
       "       [ 1.        ,  1.        ,  0.        , -0.73747631,  1.7909266 ],\n",
       "       [ 1.        ,  1.        ,  0.        , -0.79693124, -1.01299264],\n",
       "       [ 2.        ,  1.        ,  0.        , -1.50585696, -0.62214183],\n",
       "       [ 2.        ,  1.        ,  1.        , -0.67795399,  0.67146838],\n",
       "       [ 2.        ,  0.        ,  0.        , -1.44706354,  1.51068325],\n",
       "       [ 0.        ,  1.        ,  0.        ,  1.70960446,  0.73058796],\n",
       "       [ 0.        ,  1.        ,  1.        ,  0.40855174, -0.964957  ],\n",
       "       [ 0.        ,  1.        ,  0.        , -0.79693124, -1.64883075],\n",
       "       [ 1.        ,  0.        ,  0.        ,  0.34734786,  1.09800526],\n",
       "       [ 2.        ,  0.        ,  0.        , -1.79915873,  0.41760077],\n",
       "       [ 1.        ,  0.        ,  0.        , -1.50585696, -0.52246894],\n",
       "       [ 2.        ,  0.        ,  0.        ,  0.77744692,  0.01082675],\n",
       "       [ 1.        ,  1.        ,  1.        , -0.13872733,  0.21079919],\n",
       "       [ 2.        ,  1.        ,  1.        ,  0.10345906, -0.83363346],\n",
       "       [ 1.        ,  1.        ,  0.        ,  0.77744692,  1.37828989],\n",
       "       [ 2.        ,  1.        ,  0.        , -0.19899891,  0.91930222],\n",
       "       [ 2.        ,  0.        ,  0.        ,  0.46984044, -0.34100747],\n",
       "       [ 2.        ,  0.        ,  1.        , -0.8563211 ,  0.46545311],\n",
       "       [ 2.        ,  0.        ,  0.        ,  1.39754082, -0.88830362],\n",
       "       [ 2.        ,  1.        ,  0.        , -0.9749143 ,  1.56183871],\n",
       "       [ 0.        ,  1.        ,  1.        , -1.32933462,  1.69314075],\n",
       "       [ 2.        ,  1.        ,  0.        , -0.55869683, -0.63745844],\n",
       "       [ 1.        ,  1.        ,  1.        ,  1.39754082, -0.86214759],\n",
       "       [ 0.        ,  1.        ,  0.        , -1.03412161, -0.25890198],\n",
       "       [ 1.        ,  1.        ,  1.        ,  1.64709623,  0.35740337],\n",
       "       [ 1.        ,  0.        ,  1.        ,  0.71577982,  0.72016542],\n",
       "       [ 0.        ,  1.        ,  0.        ,  1.45985582, -0.92034201],\n",
       "       [ 0.        ,  1.        ,  1.        , -0.67795399,  1.05059486],\n",
       "       [ 2.        ,  1.        ,  1.        ,  0.90098298, -0.04678934],\n",
       "       [ 2.        ,  1.        ,  0.        , -1.32933462,  1.2852612 ],\n",
       "       [ 1.        ,  0.        ,  1.        , -0.55869683, -0.5836898 ],\n",
       "       [ 2.        ,  0.        ,  0.        , -1.74058364,  0.23379433],\n",
       "       [ 2.        ,  1.        ,  0.        ,  0.77744692,  0.75218095],\n",
       "       [ 1.        ,  0.        ,  1.        ,  0.22520952, -0.68188969],\n",
       "       [ 0.        ,  1.        ,  0.        , -1.03412161, -1.55231401],\n",
       "       [ 1.        ,  1.        ,  0.        ,  0.77744692,  2.02234526],\n",
       "       [ 1.        ,  0.        ,  0.        ,  0.96284775, -1.69055039],\n",
       "       [ 1.        ,  1.        ,  1.        ,  0.10345906, -0.90765011],\n",
       "       [ 1.        ,  1.        ,  0.        , -1.03412161,  0.79328414],\n",
       "       [ 0.        ,  1.        ,  0.        ,  0.83918203, -0.05639386],\n",
       "       [ 2.        ,  0.        ,  1.        , -0.19899891, -0.28279293],\n",
       "       [ 2.        ,  0.        ,  1.        , -1.38822316,  1.48900571],\n",
       "       [ 0.        ,  1.        ,  0.        ,  0.28623245, -0.29621061],\n",
       "       [ 1.        ,  0.        ,  0.        , -0.79693124, -0.72444599],\n",
       "       [ 0.        ,  0.        ,  0.        ,  0.28623245, -0.38479984],\n",
       "       [ 0.        ,  1.        ,  1.        , -1.32933462, -0.3925358 ],\n",
       "       [ 1.        ,  1.        ,  0.        ,  0.83918203, -0.82324927],\n",
       "       [ 0.        ,  0.        ,  1.        ,  1.33527706, -1.06589502],\n",
       "       [ 1.        ,  1.        ,  1.        ,  1.45985582,  0.2275883 ],\n",
       "       [ 0.        ,  1.        ,  1.        ,  0.65418304, -1.21580008],\n",
       "       [ 1.        ,  0.        ,  1.        ,  1.33527706,  0.88560152],\n",
       "       [ 0.        ,  1.        ,  1.        , -1.03412161,  1.4072431 ],\n",
       "       [ 1.        ,  1.        ,  1.        , -0.0178627 ,  0.58065388],\n",
       "       [ 2.        ,  0.        ,  0.        , -1.62330756,  1.20245154],\n",
       "       [ 0.        ,  1.        ,  1.        , -0.37923572,  0.3057324 ],\n",
       "       [ 1.        ,  0.        ,  1.        , -0.49895636, -1.21524368],\n",
       "       [ 2.        ,  1.        ,  0.        ,  0.90098298, -0.17127427],\n",
       "       [ 0.        ,  0.        ,  1.        ,  0.59265908, -1.71475085],\n",
       "       [ 0.        ,  1.        ,  0.        ,  0.22520952,  0.35219503],\n",
       "       [ 0.        ,  1.        ,  0.        ,  0.34734786, -0.11238914],\n",
       "       [ 1.        ,  0.        ,  1.        ,  0.40855174,  1.76097699],\n",
       "       [ 0.        ,  1.        ,  0.        ,  0.71577982,  0.00654021],\n",
       "       [ 0.        ,  1.        ,  1.        ,  0.90098298,  0.1764808 ],\n",
       "       [ 1.        ,  0.        ,  1.        , -0.61836173, -1.15939815],\n",
       "       [ 1.        ,  0.        ,  0.        , -0.43913714,  1.58772167],\n",
       "       [ 1.        ,  1.        ,  0.        ,  0.10345906, -0.50378416],\n",
       "       [ 1.        ,  0.        ,  0.        ,  1.14880643,  1.31374288],\n",
       "       [ 2.        ,  0.        ,  0.        , -0.79693124, -0.86189204],\n",
       "       [ 2.        ,  0.        ,  1.        ,  1.77215833,  0.22069821],\n",
       "       [ 0.        ,  1.        ,  1.        ,  0.46984044, -0.00900773],\n",
       "       [ 2.        ,  0.        ,  0.        , -0.43913714, -0.60689637],\n",
       "       [ 1.        ,  0.        ,  0.        ,  1.64709623,  0.08438671],\n",
       "       [ 2.        ,  1.        ,  1.        ,  1.52222082, -0.97678114],\n",
       "       [ 0.        ,  1.        ,  1.        ,  1.14880643, -1.56335061],\n",
       "       [ 0.        ,  0.        ,  0.        ,  0.28623245,  0.48470192],\n",
       "       [ 1.        ,  0.        ,  1.        ,  0.10345906,  1.79386758],\n",
       "       [ 1.        ,  1.        ,  0.        ,  0.10345906, -0.91982317],\n",
       "       [ 0.        ,  0.        ,  0.        ,  0.22520952, -1.10180657],\n",
       "       [ 2.        ,  0.        ,  1.        , -0.25917092,  0.17393957],\n",
       "       [ 2.        ,  1.        ,  0.        ,  1.70960446,  0.62937487],\n",
       "       [ 1.        ,  0.        ,  1.        , -0.0178627 , -1.38463078],\n",
       "       [ 2.        ,  0.        ,  0.        , -0.49895636,  1.10548317],\n",
       "       [ 2.        ,  1.        ,  1.        , -0.31924835,  1.45844201],\n",
       "       [ 2.        ,  0.        ,  1.        ,  1.21090847, -0.60357092],\n",
       "       [ 2.        ,  0.        ,  1.        , -1.27039661, -1.07639417],\n",
       "       [ 2.        ,  0.        ,  0.        , -0.79693124,  1.33066201],\n",
       "       [ 1.        ,  1.        ,  1.        ,  0.22520952, -0.79980228],\n",
       "       [ 0.        ,  0.        ,  1.        ,  1.33527706, -0.71020231],\n",
       "       [ 1.        ,  1.        ,  0.        , -1.03412161, -0.20726097],\n",
       "       [ 2.        ,  1.        ,  0.        ,  0.04274169,  1.85270902],\n",
       "       [ 1.        ,  1.        ,  1.        , -1.74058364, -0.44932082],\n",
       "       [ 2.        ,  0.        ,  1.        ,  1.14880643,  0.90917193],\n",
       "       [ 0.        ,  0.        ,  0.        ,  0.10345906, -1.89499176],\n",
       "       [ 2.        ,  1.        ,  0.        ,  0.59265908, -0.69089513],\n",
       "       [ 0.        ,  1.        ,  1.        ,  0.96284775, -1.08502827],\n",
       "       [ 2.        ,  1.        ,  1.        ,  1.27306582,  0.36288641],\n",
       "       [ 2.        ,  0.        ,  0.        ,  1.21090847,  1.70377383],\n",
       "       [ 0.        ,  0.        ,  0.        , -0.37923572,  0.48658433],\n",
       "       [ 2.        ,  1.        ,  1.        , -0.13872733, -0.03951988],\n",
       "       [ 1.        ,  0.        ,  1.        , -0.0178627 , -0.93281486],\n",
       "       [ 2.        ,  1.        ,  1.        ,  1.77215833, -1.05166859],\n",
       "       [ 1.        ,  1.        ,  0.        ,  1.77215833,  0.91014929],\n",
       "       [ 1.        ,  1.        ,  1.        , -0.19899891,  0.81620365],\n",
       "       [ 2.        ,  1.        ,  1.        ,  1.39754082, -0.68310526],\n",
       "       [ 1.        ,  0.        ,  0.        , -0.67795399, -0.24966039],\n",
       "       [ 2.        ,  0.        ,  1.        ,  1.21090847,  1.86831186],\n",
       "       [ 2.        ,  0.        ,  1.        ,  1.64709623, -1.02229529],\n",
       "       [ 0.        ,  1.        ,  0.        ,  1.52222082,  0.86515364],\n",
       "       [ 2.        ,  1.        ,  0.        ,  0.96284775,  1.29417719],\n",
       "       [ 0.        ,  1.        ,  1.        , -1.32933462,  0.43519452],\n",
       "       [ 0.        ,  1.        ,  0.        , -0.91564811, -0.8235022 ],\n",
       "       [ 0.        ,  0.        ,  0.        ,  1.39754082,  1.40628511],\n",
       "       [ 2.        ,  0.        ,  1.        ,  0.22520952, -2.0275207 ],\n",
       "       [ 2.        ,  0.        ,  1.        ,  0.16428345, -0.82274347],\n",
       "       [ 2.        ,  0.        ,  0.        , -1.5646046 ,  1.33030105]])"
      ]
     },
     "execution_count": 33,
     "metadata": {},
     "output_type": "execute_result"
    }
   ],
   "source": [
    "final_pipe.fit_transform(x_train)"
   ]
  },
  {
   "cell_type": "code",
   "execution_count": 34,
   "metadata": {
    "colab": {
     "base_uri": "https://localhost:8080/"
    },
    "execution": {
     "iopub.execute_input": "2025-05-07T07:08:05.712275Z",
     "iopub.status.busy": "2025-05-07T07:08:05.712275Z",
     "iopub.status.idle": "2025-05-07T07:08:05.717029Z",
     "shell.execute_reply": "2025-05-07T07:08:05.717029Z"
    },
    "executionInfo": {
     "elapsed": 9,
     "status": "ok",
     "timestamp": 1707154585981,
     "user": {
      "displayName": "Narasimharao",
      "userId": "17097520752763909307"
     },
     "user_tz": -330
    },
    "id": "q9GMbO4qzut-",
    "outputId": "6235cc2e-a6e6-4c9c-8dee-37784223a821"
   },
   "outputs": [
    {
     "data": {
      "text/plain": [
       "array(['Ordinal_Pre-Processing__BP',\n",
       "       'Ordinal_Pre-Processing__Cholesterol',\n",
       "       'Nominal_Pre-Processing__Sex_M', 'numerical_Pre-Processing__Age',\n",
       "       'numerical_Pre-Processing__Na_to_K'], dtype=object)"
      ]
     },
     "execution_count": 34,
     "metadata": {},
     "output_type": "execute_result"
    }
   ],
   "source": [
    "final_pipe.get_feature_names_out()"
   ]
  },
  {
   "cell_type": "code",
   "execution_count": 35,
   "metadata": {
    "execution": {
     "iopub.execute_input": "2025-05-07T07:08:05.719608Z",
     "iopub.status.busy": "2025-05-07T07:08:05.719608Z",
     "iopub.status.idle": "2025-05-07T07:08:05.747788Z",
     "shell.execute_reply": "2025-05-07T07:08:05.747279Z"
    },
    "executionInfo": {
     "elapsed": 8,
     "status": "ok",
     "timestamp": 1707154585981,
     "user": {
      "displayName": "Narasimharao",
      "userId": "17097520752763909307"
     },
     "user_tz": -330
    },
    "id": "I-mo6kB0UzqK"
   },
   "outputs": [],
   "source": [
    "final_x_train = final_pipe.fit_transform(x_train)\n",
    "final_x_test = final_pipe.transform(x_test)"
   ]
  },
  {
   "cell_type": "code",
   "execution_count": 36,
   "metadata": {
    "execution": {
     "iopub.execute_input": "2025-05-07T07:08:05.747788Z",
     "iopub.status.busy": "2025-05-07T07:08:05.747788Z",
     "iopub.status.idle": "2025-05-07T07:08:05.755940Z",
     "shell.execute_reply": "2025-05-07T07:08:05.755940Z"
    },
    "executionInfo": {
     "elapsed": 563,
     "status": "ok",
     "timestamp": 1707154587114,
     "user": {
      "displayName": "Narasimharao",
      "userId": "17097520752763909307"
     },
     "user_tz": -330
    },
    "id": "ZZ4w6aVEUz2g"
   },
   "outputs": [
    {
     "data": {
      "text/plain": [
       "array([[ 1.        ,  1.        ,  0.        ,  0.96284775,  0.59210605],\n",
       "       [ 1.        ,  0.        ,  1.        , -0.49895636,  0.41745905],\n",
       "       [ 0.        ,  0.        ,  1.        , -1.32933462, -0.03037441],\n",
       "       [ 1.        ,  1.        ,  1.        , -0.43913714,  0.62297385],\n",
       "       [ 0.        ,  0.        ,  0.        , -1.50585696, -1.12900654],\n",
       "       [ 1.        ,  1.        ,  0.        , -1.15236669, -0.00393637],\n",
       "       [ 0.        ,  1.        ,  1.        ,  1.08676121,  1.32654161],\n",
       "       [ 1.        ,  0.        ,  1.        , -0.13872733,  0.74689805],\n",
       "       [ 2.        ,  0.        ,  0.        , -1.38822316,  1.08215184],\n",
       "       [ 0.        ,  1.        ,  0.        , -1.27039661, -0.78275266],\n",
       "       [ 1.        ,  1.        ,  0.        ,  0.16428345,  0.15346208],\n",
       "       [ 2.        ,  1.        ,  1.        ,  0.34734786,  0.62297385],\n",
       "       [ 0.        ,  1.        ,  1.        , -1.21140778,  0.70693632],\n",
       "       [ 2.        ,  1.        ,  1.        , -0.8563211 ,  1.61706221],\n",
       "       [ 0.        ,  1.        ,  1.        , -1.38822316, -0.46131224],\n",
       "       [ 2.        ,  0.        ,  1.        ,  0.34734786, -0.60285877],\n",
       "       [ 2.        ,  0.        ,  0.        , -1.15236669, -0.38215246],\n",
       "       [ 0.        ,  1.        ,  1.        , -1.27039661,  1.31702629],\n",
       "       [ 2.        ,  1.        ,  0.        , -0.49895636, -0.21468962],\n",
       "       [ 1.        ,  1.        ,  1.        ,  1.64709623, -1.86782018],\n",
       "       [ 2.        ,  1.        ,  1.        , -0.9749143 , -0.26374644],\n",
       "       [ 0.        ,  0.        ,  1.        , -0.13872733, -0.26311403],\n",
       "       [ 0.        ,  1.        ,  1.        ,  0.53121058,  1.23232944],\n",
       "       [ 1.        ,  1.        ,  1.        ,  0.46984044,  1.09459283],\n",
       "       [ 2.        ,  1.        ,  1.        ,  1.52222082, -0.04047491],\n",
       "       [ 1.        ,  0.        ,  0.        ,  1.21090847, -0.07865415],\n",
       "       [ 0.        ,  0.        ,  1.        , -0.61836173, -1.53832777],\n",
       "       [ 2.        ,  0.        ,  1.        , -1.50585696,  1.90001532],\n",
       "       [ 2.        ,  1.        ,  1.        ,  0.28623245, -1.64488832],\n",
       "       [ 1.        ,  0.        ,  0.        , -0.49895636, -0.44932082],\n",
       "       [ 1.        ,  0.        ,  1.        ,  0.10345906,  1.62896383],\n",
       "       [ 2.        ,  1.        ,  0.        ,  0.65418304,  1.28823945],\n",
       "       [ 2.        ,  0.        ,  1.        , -0.8563211 , -0.63050929],\n",
       "       [ 0.        ,  1.        ,  0.        , -0.31924835, -0.91049572],\n",
       "       [ 2.        ,  0.        ,  0.        , -1.27039661,  0.64244248],\n",
       "       [ 0.        ,  0.        ,  1.        ,  0.04274169, -1.70738775],\n",
       "       [ 1.        ,  0.        ,  1.        ,  1.77215833, -0.46448799],\n",
       "       [ 1.        ,  1.        ,  0.        ,  0.65418304, -0.55012708],\n",
       "       [ 2.        ,  0.        ,  0.        ,  0.71577982, -0.95159828],\n",
       "       [ 2.        ,  0.        ,  1.        , -1.74058364,  0.70648172]])"
      ]
     },
     "execution_count": 36,
     "metadata": {},
     "output_type": "execute_result"
    }
   ],
   "source": [
    "final_x_test"
   ]
  },
  {
   "cell_type": "markdown",
   "metadata": {
    "id": "aOoq4adgwOrN"
   },
   "source": [
    "## 7.Training"
   ]
  },
  {
   "cell_type": "code",
   "execution_count": 37,
   "metadata": {
    "colab": {
     "base_uri": "https://localhost:8080/"
    },
    "execution": {
     "iopub.execute_input": "2025-05-07T07:08:05.759333Z",
     "iopub.status.busy": "2025-05-07T07:08:05.759333Z",
     "iopub.status.idle": "2025-05-07T07:08:08.386782Z",
     "shell.execute_reply": "2025-05-07T07:08:08.386782Z"
    },
    "executionInfo": {
     "elapsed": 6795,
     "status": "ok",
     "timestamp": 1707154594555,
     "user": {
      "displayName": "Narasimharao",
      "userId": "17097520752763909307"
     },
     "user_tz": -330
    },
    "id": "HnLldUKAwOrN",
    "outputId": "5eb70720-cf81-443b-c606-bfefc2933dd5"
   },
   "outputs": [
    {
     "name": "stdout",
     "output_type": "stream",
     "text": [
      "Requirement already satisfied: mixed-naive-bayes in c:\\users\\gurucharan\\appdata\\local\\programs\\python\\python312\\lib\\site-packages (0.0.3)\n",
      "Requirement already satisfied: numpy>=1.22.0 in c:\\users\\gurucharan\\appdata\\local\\programs\\python\\python312\\lib\\site-packages (from mixed-naive-bayes) (1.26.4)\n",
      "Requirement already satisfied: scikit-learn>=0.20.2 in c:\\users\\gurucharan\\appdata\\local\\programs\\python\\python312\\lib\\site-packages (from mixed-naive-bayes) (1.6.1)\n",
      "Requirement already satisfied: scipy>=1.6.0 in c:\\users\\gurucharan\\appdata\\local\\programs\\python\\python312\\lib\\site-packages (from scikit-learn>=0.20.2->mixed-naive-bayes) (1.15.1)\n",
      "Requirement already satisfied: joblib>=1.2.0 in c:\\users\\gurucharan\\appdata\\local\\programs\\python\\python312\\lib\\site-packages (from scikit-learn>=0.20.2->mixed-naive-bayes) (1.4.2)\n",
      "Requirement already satisfied: threadpoolctl>=3.1.0 in c:\\users\\gurucharan\\appdata\\local\\programs\\python\\python312\\lib\\site-packages (from scikit-learn>=0.20.2->mixed-naive-bayes) (3.5.0)\n",
      "Note: you may need to restart the kernel to use updated packages.\n"
     ]
    },
    {
     "name": "stderr",
     "output_type": "stream",
     "text": [
      "WARNING: Ignoring invalid distribution ~angchain-core (C:\\Users\\GuruCharan\\AppData\\Local\\Programs\\Python\\Python312\\Lib\\site-packages)\n",
      "WARNING: Ignoring invalid distribution ~angchain-core (C:\\Users\\GuruCharan\\AppData\\Local\\Programs\\Python\\Python312\\Lib\\site-packages)\n",
      "WARNING: Ignoring invalid distribution ~angchain-core (C:\\Users\\GuruCharan\\AppData\\Local\\Programs\\Python\\Python312\\Lib\\site-packages)\n",
      "\n",
      "[notice] A new release of pip is available: 25.0.1 -> 25.1.1\n",
      "[notice] To update, run: C:\\Users\\GuruCharan\\AppData\\Local\\Programs\\Python\\Python312\\python.exe -m pip install --upgrade pip\n"
     ]
    }
   ],
   "source": [
    "%pip install mixed-naive-bayes"
   ]
  },
  {
   "cell_type": "code",
   "execution_count": 38,
   "metadata": {
    "execution": {
     "iopub.execute_input": "2025-05-07T07:08:08.388287Z",
     "iopub.status.busy": "2025-05-07T07:08:08.388287Z",
     "iopub.status.idle": "2025-05-07T07:08:08.397661Z",
     "shell.execute_reply": "2025-05-07T07:08:08.397034Z"
    },
    "executionInfo": {
     "elapsed": 7,
     "status": "ok",
     "timestamp": 1707154594555,
     "user": {
      "displayName": "Narasimharao",
      "userId": "17097520752763909307"
     },
     "user_tz": -330
    },
    "id": "2srdgyX6wOrO"
   },
   "outputs": [],
   "source": [
    "from mixed_naive_bayes import MixedNB"
   ]
  },
  {
   "cell_type": "code",
   "execution_count": 39,
   "metadata": {
    "execution": {
     "iopub.execute_input": "2025-05-07T07:08:08.400760Z",
     "iopub.status.busy": "2025-05-07T07:08:08.400760Z",
     "iopub.status.idle": "2025-05-07T07:08:08.405088Z",
     "shell.execute_reply": "2025-05-07T07:08:08.405088Z"
    },
    "executionInfo": {
     "elapsed": 7,
     "status": "ok",
     "timestamp": 1707154594556,
     "user": {
      "displayName": "Narasimharao",
      "userId": "17097520752763909307"
     },
     "user_tz": -330
    },
    "id": "kS656TffwOrO"
   },
   "outputs": [],
   "source": [
    "mb = MixedNB(categorical_features= [0,1,2])\n",
    "model = mb.fit(final_x_train, y_train)"
   ]
  },
  {
   "cell_type": "markdown",
   "metadata": {
    "id": "idhxXBZnwOrO"
   },
   "source": [
    "then finally we create a model for the Mixed Naive bayes"
   ]
  },
  {
   "cell_type": "code",
   "execution_count": null,
   "metadata": {
    "executionInfo": {
     "elapsed": 8,
     "status": "ok",
     "timestamp": 1707154594557,
     "user": {
      "displayName": "Narasimharao",
      "userId": "17097520752763909307"
     },
     "user_tz": -330
    },
    "id": "i_kA61WRLV8y"
   },
   "outputs": [],
   "source": []
  },
  {
   "cell_type": "code",
   "execution_count": null,
   "metadata": {
    "executionInfo": {
     "elapsed": 9,
     "status": "ok",
     "timestamp": 1707154594558,
     "user": {
      "displayName": "Narasimharao",
      "userId": "17097520752763909307"
     },
     "user_tz": -330
    },
    "id": "GkKMEep8LWP0"
   },
   "outputs": [],
   "source": []
  },
  {
   "cell_type": "markdown",
   "metadata": {
    "id": "9reO3actVM4P"
   },
   "source": [
    "### 8. Model Evaluation"
   ]
  },
  {
   "cell_type": "markdown",
   "metadata": {
    "id": "vQCdgsoywOrP"
   },
   "source": [
    "#### finding precission score of model"
   ]
  },
  {
   "cell_type": "code",
   "execution_count": 40,
   "metadata": {
    "colab": {
     "base_uri": "https://localhost:8080/"
    },
    "execution": {
     "iopub.execute_input": "2025-05-07T07:08:08.409655Z",
     "iopub.status.busy": "2025-05-07T07:08:08.408494Z",
     "iopub.status.idle": "2025-05-07T07:08:08.415052Z",
     "shell.execute_reply": "2025-05-07T07:08:08.415052Z"
    },
    "executionInfo": {
     "elapsed": 524,
     "status": "ok",
     "timestamp": 1707154600960,
     "user": {
      "displayName": "Narasimharao",
      "userId": "17097520752763909307"
     },
     "user_tz": -330
    },
    "id": "_pRkGhHCwOrP",
    "outputId": "6ff03abc-de41-47d6-94b0-af2fb88526c5"
   },
   "outputs": [
    {
     "data": {
      "text/plain": [
       "array([[18,  0,  0,  0,  0],\n",
       "       [ 0,  5,  0,  0,  0],\n",
       "       [ 0,  1,  2,  0,  0],\n",
       "       [ 1,  0,  0,  1,  1],\n",
       "       [ 0,  0,  0,  0, 11]], dtype=int64)"
      ]
     },
     "execution_count": 40,
     "metadata": {},
     "output_type": "execute_result"
    }
   ],
   "source": [
    "from sklearn.metrics import accuracy_score,confusion_matrix,classification_report\n",
    "\n",
    "confusion_matrix(y_test,model.predict(final_x_test))"
   ]
  },
  {
   "cell_type": "code",
   "execution_count": 41,
   "metadata": {
    "colab": {
     "base_uri": "https://localhost:8080/"
    },
    "execution": {
     "iopub.execute_input": "2025-05-07T07:08:08.417300Z",
     "iopub.status.busy": "2025-05-07T07:08:08.417300Z",
     "iopub.status.idle": "2025-05-07T07:08:08.423465Z",
     "shell.execute_reply": "2025-05-07T07:08:08.422811Z"
    },
    "executionInfo": {
     "elapsed": 6,
     "status": "ok",
     "timestamp": 1707154601649,
     "user": {
      "displayName": "Narasimharao",
      "userId": "17097520752763909307"
     },
     "user_tz": -330
    },
    "id": "_9lF8_zVDFAP",
    "outputId": "8101ae62-7b3b-4317-849b-17321e79a3f6"
   },
   "outputs": [
    {
     "data": {
      "text/plain": [
       "0.925"
      ]
     },
     "execution_count": 41,
     "metadata": {},
     "output_type": "execute_result"
    }
   ],
   "source": [
    "accuracy_score(y_test,model.predict(final_x_test))"
   ]
  },
  {
   "cell_type": "code",
   "execution_count": 42,
   "metadata": {
    "colab": {
     "base_uri": "https://localhost:8080/"
    },
    "execution": {
     "iopub.execute_input": "2025-05-07T07:08:08.426412Z",
     "iopub.status.busy": "2025-05-07T07:08:08.425326Z",
     "iopub.status.idle": "2025-05-07T07:08:08.436244Z",
     "shell.execute_reply": "2025-05-07T07:08:08.436244Z"
    },
    "executionInfo": {
     "elapsed": 10,
     "status": "ok",
     "timestamp": 1707154602612,
     "user": {
      "displayName": "Narasimharao",
      "userId": "17097520752763909307"
     },
     "user_tz": -330
    },
    "id": "7qw038yE1K9b",
    "outputId": "845a5abd-6c5e-404d-9654-ff6e69c08545"
   },
   "outputs": [
    {
     "name": "stdout",
     "output_type": "stream",
     "text": [
      "              precision    recall  f1-score   support\n",
      "\n",
      "           0       0.95      1.00      0.97        18\n",
      "           1       0.83      1.00      0.91         5\n",
      "           2       1.00      0.67      0.80         3\n",
      "           3       1.00      0.33      0.50         3\n",
      "           4       0.92      1.00      0.96        11\n",
      "\n",
      "    accuracy                           0.93        40\n",
      "   macro avg       0.94      0.80      0.83        40\n",
      "weighted avg       0.93      0.93      0.91        40\n",
      "\n"
     ]
    }
   ],
   "source": [
    "print(classification_report(y_test, model.predict(final_x_test)))"
   ]
  },
  {
   "cell_type": "markdown",
   "metadata": {
    "id": "0m-PvquYwOrP"
   },
   "source": [
    "It will give the accuracy rate of 99% by using Precision_score"
   ]
  },
  {
   "cell_type": "code",
   "execution_count": 43,
   "metadata": {
    "execution": {
     "iopub.execute_input": "2025-05-07T07:08:08.438417Z",
     "iopub.status.busy": "2025-05-07T07:08:08.438417Z",
     "iopub.status.idle": "2025-05-07T07:08:08.443269Z",
     "shell.execute_reply": "2025-05-07T07:08:08.442261Z"
    },
    "executionInfo": {
     "elapsed": 3,
     "status": "ok",
     "timestamp": 1707154604383,
     "user": {
      "displayName": "Narasimharao",
      "userId": "17097520752763909307"
     },
     "user_tz": -330
    },
    "id": "yOLSoCPD_j13"
   },
   "outputs": [],
   "source": [
    "import pickle"
   ]
  },
  {
   "cell_type": "code",
   "execution_count": 44,
   "metadata": {
    "execution": {
     "iopub.execute_input": "2025-05-07T07:08:08.446674Z",
     "iopub.status.busy": "2025-05-07T07:08:08.445177Z",
     "iopub.status.idle": "2025-05-07T07:08:08.449470Z",
     "shell.execute_reply": "2025-05-07T07:08:08.449470Z"
    },
    "executionInfo": {
     "elapsed": 2,
     "status": "ok",
     "timestamp": 1707154604775,
     "user": {
      "displayName": "Narasimharao",
      "userId": "17097520752763909307"
     },
     "user_tz": -330
    },
    "id": "Afm_mJuR_j5Y"
   },
   "outputs": [],
   "source": [
    "# pickle.dump(final_pipe, open(r\"/content/drive/MyDrive/Drugs project/final_pre.pkl\",'wb'))\n",
    "# pickle.dump(model, open(r\"/content/drive/MyDrive/Drugs project/model.pkl\", 'wb'))\n"
   ]
  },
  {
   "cell_type": "markdown",
   "metadata": {
    "id": "KODOP4BzwOrP"
   },
   "source": [
    "## 9.Testing"
   ]
  },
  {
   "cell_type": "code",
   "execution_count": 45,
   "metadata": {
    "colab": {
     "base_uri": "https://localhost:8080/"
    },
    "execution": {
     "iopub.execute_input": "2025-05-07T07:08:08.449470Z",
     "iopub.status.busy": "2025-05-07T07:08:08.449470Z",
     "iopub.status.idle": "2025-05-07T07:08:08.455875Z",
     "shell.execute_reply": "2025-05-07T07:08:08.455875Z"
    },
    "executionInfo": {
     "elapsed": 376,
     "status": "ok",
     "timestamp": 1707154615959,
     "user": {
      "displayName": "Narasimharao",
      "userId": "17097520752763909307"
     },
     "user_tz": -330
    },
    "id": "ufwi1ig43Qbx",
    "outputId": "c67def3d-6629-4d06-dd2a-186918a3e864"
   },
   "outputs": [
    {
     "data": {
      "text/plain": [
       "array(['DrugY', 'drugA', 'drugB', 'drugC', 'drugX'], dtype=object)"
      ]
     },
     "execution_count": 45,
     "metadata": {},
     "output_type": "execute_result"
    }
   ],
   "source": [
    "lbe.classes_    # class labels of Drug column sequencially."
   ]
  },
  {
   "cell_type": "code",
   "execution_count": 46,
   "metadata": {
    "colab": {
     "base_uri": "https://localhost:8080/"
    },
    "execution": {
     "iopub.execute_input": "2025-05-07T07:08:08.458442Z",
     "iopub.status.busy": "2025-05-07T07:08:08.458442Z",
     "iopub.status.idle": "2025-05-07T07:08:08.464094Z",
     "shell.execute_reply": "2025-05-07T07:08:08.463580Z"
    },
    "executionInfo": {
     "elapsed": 6,
     "status": "ok",
     "timestamp": 1707154616561,
     "user": {
      "displayName": "Narasimharao",
      "userId": "17097520752763909307"
     },
     "user_tz": -330
    },
    "id": "-GPu2G5U3e74",
    "outputId": "05a87e3e-8751-4fe3-95a9-14fc8ccd0df3"
   },
   "outputs": [
    {
     "data": {
      "text/plain": [
       "{0: 'DrugY', 1: 'drugA', 2: 'drugB', 3: 'drugC', 4: 'drugX'}"
      ]
     },
     "execution_count": 46,
     "metadata": {},
     "output_type": "execute_result"
    }
   ],
   "source": [
    "dict = {}\n",
    "for i in lbe.classes_:                        # create a dictionary index of lbe.classes_ as key and lbe.classes_ as value\n",
    "  dict[list(lbe.classes_).index(i)] = i\n",
    "dict"
   ]
  },
  {
   "cell_type": "code",
   "execution_count": 47,
   "metadata": {
    "colab": {
     "base_uri": "https://localhost:8080/"
    },
    "execution": {
     "iopub.execute_input": "2025-05-07T07:08:08.465491Z",
     "iopub.status.busy": "2025-05-07T07:08:08.465491Z",
     "iopub.status.idle": "2025-05-07T07:08:08.485695Z",
     "shell.execute_reply": "2025-05-07T07:08:08.485695Z"
    },
    "executionInfo": {
     "elapsed": 6,
     "status": "ok",
     "timestamp": 1707154617947,
     "user": {
      "displayName": "Narasimharao",
      "userId": "17097520752763909307"
     },
     "user_tz": -330
    },
    "id": "XXX0K7EawOrQ",
    "outputId": "f6b3f229-8576-4044-b1e2-6c37f0389804"
   },
   "outputs": [
    {
     "name": "stdout",
     "output_type": "stream",
     "text": [
      "drugX\n"
     ]
    }
   ],
   "source": [
    "m = pd.DataFrame(list(final_x_test)).iloc[[2]]\n",
    "pred = model.predict(m)   # it is used to shows that predicted value\n",
    "print(dict[pred[0]])      # it will give Class label of drugs based on features"
   ]
  },
  {
   "cell_type": "code",
   "execution_count": 48,
   "metadata": {
    "execution": {
     "iopub.execute_input": "2025-05-07T07:08:08.493961Z",
     "iopub.status.busy": "2025-05-07T07:08:08.493961Z",
     "iopub.status.idle": "2025-05-07T07:08:08.505886Z",
     "shell.execute_reply": "2025-05-07T07:08:08.505886Z"
    }
   },
   "outputs": [
    {
     "data": {
      "text/html": [
       "<div>\n",
       "<style scoped>\n",
       "    .dataframe tbody tr th:only-of-type {\n",
       "        vertical-align: middle;\n",
       "    }\n",
       "\n",
       "    .dataframe tbody tr th {\n",
       "        vertical-align: top;\n",
       "    }\n",
       "\n",
       "    .dataframe thead th {\n",
       "        text-align: right;\n",
       "    }\n",
       "</style>\n",
       "<table border=\"1\" class=\"dataframe\">\n",
       "  <thead>\n",
       "    <tr style=\"text-align: right;\">\n",
       "      <th></th>\n",
       "      <th>0</th>\n",
       "      <th>1</th>\n",
       "      <th>2</th>\n",
       "      <th>3</th>\n",
       "      <th>4</th>\n",
       "    </tr>\n",
       "  </thead>\n",
       "  <tbody>\n",
       "    <tr>\n",
       "      <th>2</th>\n",
       "      <td>0.0</td>\n",
       "      <td>0.0</td>\n",
       "      <td>1.0</td>\n",
       "      <td>-1.329335</td>\n",
       "      <td>-0.030374</td>\n",
       "    </tr>\n",
       "  </tbody>\n",
       "</table>\n",
       "</div>"
      ],
      "text/plain": [
       "     0    1    2         3         4\n",
       "2  0.0  0.0  1.0 -1.329335 -0.030374"
      ]
     },
     "execution_count": 48,
     "metadata": {},
     "output_type": "execute_result"
    }
   ],
   "source": [
    "m"
   ]
  },
  {
   "cell_type": "markdown",
   "metadata": {
    "id": "0qvWVxkJwOrQ"
   },
   "source": [
    "i will give a query point from x_test.iloc[[2]] as input to the model,then it will returns class label is drugA"
   ]
  },
  {
   "cell_type": "code",
   "execution_count": null,
   "metadata": {
    "executionInfo": {
     "elapsed": 3,
     "status": "ok",
     "timestamp": 1707154621236,
     "user": {
      "displayName": "Narasimharao",
      "userId": "17097520752763909307"
     },
     "user_tz": -330
    },
    "id": "al1m0HI_WDTJ"
   },
   "outputs": [],
   "source": []
  }
 ],
 "metadata": {
  "colab": {
   "provenance": []
  },
  "kernelspec": {
   "display_name": "Python 3",
   "language": "python",
   "name": "python3"
  },
  "language_info": {
   "codemirror_mode": {
    "name": "ipython",
    "version": 3
   },
   "file_extension": ".py",
   "mimetype": "text/x-python",
   "name": "python",
   "nbconvert_exporter": "python",
   "pygments_lexer": "ipython3",
   "version": "3.12.2"
  }
 },
 "nbformat": 4,
 "nbformat_minor": 0
}
